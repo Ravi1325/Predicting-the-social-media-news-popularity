{
 "cells": [
  {
   "cell_type": "markdown",
   "id": "f5b1cec5",
   "metadata": {},
   "source": [
    "<table>\n",
    "    <tr>\n",
    "        <td>\n",
    "            <h1>\n",
    "                <center>\n",
    "                    <h1>Predicting the news popularity in multiple social media platforms</h1>\n",
    "                </center>\n",
    "            </h1>\n",
    "        </td>\n",
    "</table>"
   ]
  },
  {
   "cell_type": "markdown",
   "id": "afdd6811",
   "metadata": {},
   "source": [
    "#### Data Description\n",
    " This is a large data set of news items and their respective social feedback on multiple platforms: Facebook, Google+ and LinkedIn.The collected data relates to a period of 8 months, between November 2015 and July 2016, accounting for about 100,000 news items on four different topics: Economy, Microsoft, Obama and Palestine."
   ]
  },
  {
   "cell_type": "markdown",
   "id": "028866ba",
   "metadata": {},
   "source": [
    "#### File descriptions\n",
    "- News_Final.csv - the News Final set (contains 93239 News records)"
   ]
  },
  {
   "cell_type": "markdown",
   "id": "9e646df0",
   "metadata": {},
   "source": [
    "#### Data fields\n",
    "- `IDLink` : Unique identifier of news items</br>\n",
    "\n",
    "- `Title` : Title of the news item according to the official media sources</br>\n",
    "\n",
    "- `Headline` : Headline of the news item according to the official media sources</br>\n",
    "\n",
    "- `Source` : Original news outlet that published the news item</br>\n",
    "\n",
    "- `Topic` : Query topic used to obtain the items in the official media sources</br> \n",
    "\n",
    "- `PublishDate` : Date and time of the news items' publication\n",
    "\n",
    "- `SentimentTitle` : Sentiment score of the text in the news items' title\n",
    "\n",
    "- `SentimentHeadline` : Sentiment score of the text in the news items'headline\n",
    "\n",
    "- `Facebook` : Final value of the news items' popularity according to the social media source Facebook\n",
    "\n",
    "- `GooglePlus` : Final value of the news items' popularity according to the social media source Google+\n",
    "\n",
    "- `LinkedIn` : Final value of the news items' popularity according to the social media source LinkedIn"
   ]
  },
  {
   "cell_type": "markdown",
   "id": "4affe128",
   "metadata": {},
   "source": [
    "## Import Required Libraries"
   ]
  },
  {
   "cell_type": "code",
   "execution_count": 1,
   "id": "2c71e4ab",
   "metadata": {},
   "outputs": [],
   "source": [
    "# Import numpy \n",
    "import numpy as np\n",
    "\n",
    "# Import pandas\n",
    "import pandas as pd\n",
    "\n",
    "# Import Matplotlib\n",
    "import matplotlib.pyplot as plt \n",
    "\n",
    "# Import seaborn\n",
    "import seaborn as sns\n",
    "\n",
    "# To Avoid warning\n",
    "from warnings import filterwarnings\n",
    "filterwarnings('ignore')\n",
    "\n",
    "# For Scaling\n",
    "from sklearn.preprocessing import StandardScaler\n",
    "from sklearn.preprocessing import LabelEncoder\n",
    "from sklearn import preprocessing\n",
    "\n",
    "# For Splitting purpose\n",
    "from sklearn.model_selection import train_test_split\n",
    "\n",
    "# For Linear regression(OLS)\n",
    "import statsmodels\n",
    "import statsmodels.api as sm\n",
    "from sklearn.linear_model import LinearRegression\n",
    "\n",
    "# For model performance(OLS)\n",
    "from sklearn.metrics import mean_squared_error\n",
    "from sklearn.metrics import mean_absolute_error\n",
    "\n",
    "\n",
    "# For feature selection in OLS\n",
    "from statsmodels.stats.outliers_influence import variance_inflation_factor\n",
    "\n",
    "# For DecisionTreeClassifier\n",
    "from sklearn.tree import DecisionTreeClassifier\n",
    "\n",
    "# For Model performance(DT)\n",
    "from sklearn.metrics import confusion_matrix \n",
    "from sklearn.metrics import classification_report\n",
    "\n",
    "# For Cross validation \n",
    "from sklearn.model_selection import GridSearchCV\n",
    "\n",
    "# For Sampling purpose \n",
    "from imblearn.under_sampling import RandomUnderSampler\n",
    "from collections import Counter"
   ]
  },
  {
   "cell_type": "markdown",
   "id": "fb0c7f0c",
   "metadata": {},
   "source": [
    "## Read The Data"
   ]
  },
  {
   "cell_type": "code",
   "execution_count": 2,
   "id": "dfdde422",
   "metadata": {},
   "outputs": [
    {
     "data": {
      "text/html": [
       "<div>\n",
       "<style scoped>\n",
       "    .dataframe tbody tr th:only-of-type {\n",
       "        vertical-align: middle;\n",
       "    }\n",
       "\n",
       "    .dataframe tbody tr th {\n",
       "        vertical-align: top;\n",
       "    }\n",
       "\n",
       "    .dataframe thead th {\n",
       "        text-align: right;\n",
       "    }\n",
       "</style>\n",
       "<table border=\"1\" class=\"dataframe\">\n",
       "  <thead>\n",
       "    <tr style=\"text-align: right;\">\n",
       "      <th></th>\n",
       "      <th>IDLink</th>\n",
       "      <th>Title</th>\n",
       "      <th>Headline</th>\n",
       "      <th>Source</th>\n",
       "      <th>Topic</th>\n",
       "      <th>PublishDate</th>\n",
       "      <th>SentimentTitle</th>\n",
       "      <th>SentimentHeadline</th>\n",
       "      <th>Facebook</th>\n",
       "      <th>GooglePlus</th>\n",
       "      <th>LinkedIn</th>\n",
       "    </tr>\n",
       "  </thead>\n",
       "  <tbody>\n",
       "    <tr>\n",
       "      <th>0</th>\n",
       "      <td>99248.0</td>\n",
       "      <td>Obama Lays Wreath at Arlington National Cemetery</td>\n",
       "      <td>Obama Lays Wreath at Arlington National Cemete...</td>\n",
       "      <td>USA TODAY</td>\n",
       "      <td>obama</td>\n",
       "      <td>2002-04-02 00:00:00</td>\n",
       "      <td>0.000000</td>\n",
       "      <td>-0.053300</td>\n",
       "      <td>-1</td>\n",
       "      <td>-1</td>\n",
       "      <td>-1</td>\n",
       "    </tr>\n",
       "    <tr>\n",
       "      <th>1</th>\n",
       "      <td>10423.0</td>\n",
       "      <td>A Look at the Health of the Chinese Economy</td>\n",
       "      <td>Tim Haywood, investment director business-unit...</td>\n",
       "      <td>Bloomberg</td>\n",
       "      <td>economy</td>\n",
       "      <td>2008-09-20 00:00:00</td>\n",
       "      <td>0.208333</td>\n",
       "      <td>-0.156386</td>\n",
       "      <td>-1</td>\n",
       "      <td>-1</td>\n",
       "      <td>-1</td>\n",
       "    </tr>\n",
       "    <tr>\n",
       "      <th>2</th>\n",
       "      <td>18828.0</td>\n",
       "      <td>Nouriel Roubini: Global Economy Not Back to 2008</td>\n",
       "      <td>Nouriel Roubini, NYU professor and chairman at...</td>\n",
       "      <td>Bloomberg</td>\n",
       "      <td>economy</td>\n",
       "      <td>2012-01-28 00:00:00</td>\n",
       "      <td>-0.425210</td>\n",
       "      <td>0.139754</td>\n",
       "      <td>-1</td>\n",
       "      <td>-1</td>\n",
       "      <td>-1</td>\n",
       "    </tr>\n",
       "    <tr>\n",
       "      <th>3</th>\n",
       "      <td>27788.0</td>\n",
       "      <td>Finland GDP Expands In Q4</td>\n",
       "      <td>Finland's economy expanded marginally in the t...</td>\n",
       "      <td>RTT News</td>\n",
       "      <td>economy</td>\n",
       "      <td>2015-03-01 00:06:00</td>\n",
       "      <td>0.000000</td>\n",
       "      <td>0.026064</td>\n",
       "      <td>-1</td>\n",
       "      <td>-1</td>\n",
       "      <td>-1</td>\n",
       "    </tr>\n",
       "    <tr>\n",
       "      <th>4</th>\n",
       "      <td>27789.0</td>\n",
       "      <td>Tourism, govt spending buoys Thai economy in J...</td>\n",
       "      <td>Tourism and public spending continued to boost...</td>\n",
       "      <td>The Nation - Thailand&amp;#39;s English news</td>\n",
       "      <td>economy</td>\n",
       "      <td>2015-03-01 00:11:00</td>\n",
       "      <td>0.000000</td>\n",
       "      <td>0.141084</td>\n",
       "      <td>-1</td>\n",
       "      <td>-1</td>\n",
       "      <td>-1</td>\n",
       "    </tr>\n",
       "  </tbody>\n",
       "</table>\n",
       "</div>"
      ],
      "text/plain": [
       "    IDLink                                              Title  \\\n",
       "0  99248.0   Obama Lays Wreath at Arlington National Cemetery   \n",
       "1  10423.0        A Look at the Health of the Chinese Economy   \n",
       "2  18828.0   Nouriel Roubini: Global Economy Not Back to 2008   \n",
       "3  27788.0                          Finland GDP Expands In Q4   \n",
       "4  27789.0  Tourism, govt spending buoys Thai economy in J...   \n",
       "\n",
       "                                            Headline  \\\n",
       "0  Obama Lays Wreath at Arlington National Cemete...   \n",
       "1  Tim Haywood, investment director business-unit...   \n",
       "2  Nouriel Roubini, NYU professor and chairman at...   \n",
       "3  Finland's economy expanded marginally in the t...   \n",
       "4  Tourism and public spending continued to boost...   \n",
       "\n",
       "                                     Source    Topic          PublishDate  \\\n",
       "0                                 USA TODAY    obama  2002-04-02 00:00:00   \n",
       "1                                 Bloomberg  economy  2008-09-20 00:00:00   \n",
       "2                                 Bloomberg  economy  2012-01-28 00:00:00   \n",
       "3                                  RTT News  economy  2015-03-01 00:06:00   \n",
       "4  The Nation - Thailand&#39;s English news  economy  2015-03-01 00:11:00   \n",
       "\n",
       "   SentimentTitle  SentimentHeadline  Facebook  GooglePlus  LinkedIn  \n",
       "0        0.000000          -0.053300        -1          -1        -1  \n",
       "1        0.208333          -0.156386        -1          -1        -1  \n",
       "2       -0.425210           0.139754        -1          -1        -1  \n",
       "3        0.000000           0.026064        -1          -1        -1  \n",
       "4        0.000000           0.141084        -1          -1        -1  "
      ]
     },
     "execution_count": 2,
     "metadata": {},
     "output_type": "execute_result"
    }
   ],
   "source": [
    "# Load the Data \n",
    "df_newsone = pd.read_csv(\"News_Final.csv\")\n",
    "\n",
    "# Print the first 5 record\n",
    "df_newsone.head()"
   ]
  },
  {
   "cell_type": "markdown",
   "id": "a369975a",
   "metadata": {},
   "source": [
    "### Step 1 : Overview of data"
   ]
  },
  {
   "cell_type": "markdown",
   "id": "ab78f931",
   "metadata": {},
   "source": [
    "1 Shape of the data</br>\n",
    "2 Check the columns(features)</br>\n",
    "3 Describe the dataset</br>\n",
    "4 Check for data types</br>"
   ]
  },
  {
   "cell_type": "markdown",
   "id": "cde49d2e",
   "metadata": {},
   "source": [
    "#### 1. Shape Of The Data "
   ]
  },
  {
   "cell_type": "code",
   "execution_count": 3,
   "id": "e292407f",
   "metadata": {},
   "outputs": [
    {
     "data": {
      "text/plain": [
       "(93239, 11)"
      ]
     },
     "execution_count": 3,
     "metadata": {},
     "output_type": "execute_result"
    }
   ],
   "source": [
    "df_newsone.shape"
   ]
  },
  {
   "cell_type": "markdown",
   "id": "dfa7d139",
   "metadata": {},
   "source": [
    "There are `93239` observation and `11` features"
   ]
  },
  {
   "cell_type": "markdown",
   "id": "d1dbd7d3",
   "metadata": {},
   "source": [
    "#### 2. Check the columns"
   ]
  },
  {
   "cell_type": "code",
   "execution_count": 4,
   "id": "1013ced0",
   "metadata": {},
   "outputs": [
    {
     "data": {
      "text/plain": [
       "Index(['IDLink', 'Title', 'Headline', 'Source', 'Topic', 'PublishDate',\n",
       "       'SentimentTitle', 'SentimentHeadline', 'Facebook', 'GooglePlus',\n",
       "       'LinkedIn'],\n",
       "      dtype='object')"
      ]
     },
     "execution_count": 4,
     "metadata": {},
     "output_type": "execute_result"
    }
   ],
   "source": [
    "df_newsone.columns"
   ]
  },
  {
   "cell_type": "markdown",
   "id": "33584494",
   "metadata": {},
   "source": [
    "- `IDLink`(numeric): Unique identifier of news items</br>\n",
    "\n",
    "- `Title` (string): Title of the news item according to the official media sources</br>\n",
    "\n",
    "- `Headline` (string): Headline of the news item according to the official media sources</br>\n",
    "\n",
    "- `Source` (string): Original news outlet that published the news item</br>\n",
    "\n",
    "- `Topic` (string): Query topic used to obtain the items in the official media sources</br>\n",
    "\n",
    "- `PublishDate` (timestamp): Date and time of the news items' publication\n",
    "\n",
    "- `SentimentTitle` (numeric): Sentiment score of the text in the news items' title\n",
    "\n",
    "- `SentimentHeadline` (numeric): Sentiment score of the text in the news items' headline\n",
    "\n",
    "- `Facebook` (numeric): Final value of the news items' popularity according to the social media source Facebook\n",
    "\n",
    "- `GooglePlus` (numeric): Final value of the news items' popularity according to the social media source Google+\n",
    "\n",
    "- `LinkedIn` (numeric): Final value of the news items' popularity according to the social media source LinkedIn"
   ]
  },
  {
   "cell_type": "markdown",
   "id": "aa9f9bd8",
   "metadata": {},
   "source": [
    "#### Describe the dataset"
   ]
  },
  {
   "cell_type": "code",
   "execution_count": 5,
   "id": "3f50081a",
   "metadata": {},
   "outputs": [
    {
     "data": {
      "text/html": [
       "<div>\n",
       "<style scoped>\n",
       "    .dataframe tbody tr th:only-of-type {\n",
       "        vertical-align: middle;\n",
       "    }\n",
       "\n",
       "    .dataframe tbody tr th {\n",
       "        vertical-align: top;\n",
       "    }\n",
       "\n",
       "    .dataframe thead th {\n",
       "        text-align: right;\n",
       "    }\n",
       "</style>\n",
       "<table border=\"1\" class=\"dataframe\">\n",
       "  <thead>\n",
       "    <tr style=\"text-align: right;\">\n",
       "      <th></th>\n",
       "      <th>count</th>\n",
       "      <th>unique</th>\n",
       "      <th>top</th>\n",
       "      <th>freq</th>\n",
       "      <th>mean</th>\n",
       "      <th>std</th>\n",
       "      <th>min</th>\n",
       "      <th>25%</th>\n",
       "      <th>50%</th>\n",
       "      <th>75%</th>\n",
       "      <th>max</th>\n",
       "    </tr>\n",
       "  </thead>\n",
       "  <tbody>\n",
       "    <tr>\n",
       "      <th>IDLink</th>\n",
       "      <td>93239.0</td>\n",
       "      <td>NaN</td>\n",
       "      <td>NaN</td>\n",
       "      <td>NaN</td>\n",
       "      <td>51560.653257</td>\n",
       "      <td>30391.078704</td>\n",
       "      <td>1.0</td>\n",
       "      <td>24301.5</td>\n",
       "      <td>52275.0</td>\n",
       "      <td>76585.5</td>\n",
       "      <td>104802.0</td>\n",
       "    </tr>\n",
       "    <tr>\n",
       "      <th>Title</th>\n",
       "      <td>93239</td>\n",
       "      <td>81259</td>\n",
       "      <td>Business Highlights</td>\n",
       "      <td>37</td>\n",
       "      <td>NaN</td>\n",
       "      <td>NaN</td>\n",
       "      <td>NaN</td>\n",
       "      <td>NaN</td>\n",
       "      <td>NaN</td>\n",
       "      <td>NaN</td>\n",
       "      <td>NaN</td>\n",
       "    </tr>\n",
       "    <tr>\n",
       "      <th>Headline</th>\n",
       "      <td>93224</td>\n",
       "      <td>86694</td>\n",
       "      <td>Read full story for latest details.</td>\n",
       "      <td>18</td>\n",
       "      <td>NaN</td>\n",
       "      <td>NaN</td>\n",
       "      <td>NaN</td>\n",
       "      <td>NaN</td>\n",
       "      <td>NaN</td>\n",
       "      <td>NaN</td>\n",
       "      <td>NaN</td>\n",
       "    </tr>\n",
       "    <tr>\n",
       "      <th>Source</th>\n",
       "      <td>92960</td>\n",
       "      <td>5756</td>\n",
       "      <td>Bloomberg</td>\n",
       "      <td>1732</td>\n",
       "      <td>NaN</td>\n",
       "      <td>NaN</td>\n",
       "      <td>NaN</td>\n",
       "      <td>NaN</td>\n",
       "      <td>NaN</td>\n",
       "      <td>NaN</td>\n",
       "      <td>NaN</td>\n",
       "    </tr>\n",
       "    <tr>\n",
       "      <th>Topic</th>\n",
       "      <td>93239</td>\n",
       "      <td>4</td>\n",
       "      <td>economy</td>\n",
       "      <td>33928</td>\n",
       "      <td>NaN</td>\n",
       "      <td>NaN</td>\n",
       "      <td>NaN</td>\n",
       "      <td>NaN</td>\n",
       "      <td>NaN</td>\n",
       "      <td>NaN</td>\n",
       "      <td>NaN</td>\n",
       "    </tr>\n",
       "    <tr>\n",
       "      <th>PublishDate</th>\n",
       "      <td>93239</td>\n",
       "      <td>82644</td>\n",
       "      <td>2016-05-19 00:00:00</td>\n",
       "      <td>112</td>\n",
       "      <td>NaN</td>\n",
       "      <td>NaN</td>\n",
       "      <td>NaN</td>\n",
       "      <td>NaN</td>\n",
       "      <td>NaN</td>\n",
       "      <td>NaN</td>\n",
       "      <td>NaN</td>\n",
       "    </tr>\n",
       "    <tr>\n",
       "      <th>SentimentTitle</th>\n",
       "      <td>93239.0</td>\n",
       "      <td>NaN</td>\n",
       "      <td>NaN</td>\n",
       "      <td>NaN</td>\n",
       "      <td>-0.005411</td>\n",
       "      <td>0.136431</td>\n",
       "      <td>-0.950694</td>\n",
       "      <td>-0.079057</td>\n",
       "      <td>0.0</td>\n",
       "      <td>0.064255</td>\n",
       "      <td>0.962354</td>\n",
       "    </tr>\n",
       "    <tr>\n",
       "      <th>SentimentHeadline</th>\n",
       "      <td>93239.0</td>\n",
       "      <td>NaN</td>\n",
       "      <td>NaN</td>\n",
       "      <td>NaN</td>\n",
       "      <td>-0.027493</td>\n",
       "      <td>0.141964</td>\n",
       "      <td>-0.755433</td>\n",
       "      <td>-0.114574</td>\n",
       "      <td>-0.026064</td>\n",
       "      <td>0.059709</td>\n",
       "      <td>0.964646</td>\n",
       "    </tr>\n",
       "    <tr>\n",
       "      <th>Facebook</th>\n",
       "      <td>93239.0</td>\n",
       "      <td>NaN</td>\n",
       "      <td>NaN</td>\n",
       "      <td>NaN</td>\n",
       "      <td>113.141336</td>\n",
       "      <td>620.173233</td>\n",
       "      <td>-1.0</td>\n",
       "      <td>0.0</td>\n",
       "      <td>5.0</td>\n",
       "      <td>33.0</td>\n",
       "      <td>49211.0</td>\n",
       "    </tr>\n",
       "    <tr>\n",
       "      <th>GooglePlus</th>\n",
       "      <td>93239.0</td>\n",
       "      <td>NaN</td>\n",
       "      <td>NaN</td>\n",
       "      <td>NaN</td>\n",
       "      <td>3.888362</td>\n",
       "      <td>18.492648</td>\n",
       "      <td>-1.0</td>\n",
       "      <td>0.0</td>\n",
       "      <td>0.0</td>\n",
       "      <td>2.0</td>\n",
       "      <td>1267.0</td>\n",
       "    </tr>\n",
       "    <tr>\n",
       "      <th>LinkedIn</th>\n",
       "      <td>93239.0</td>\n",
       "      <td>NaN</td>\n",
       "      <td>NaN</td>\n",
       "      <td>NaN</td>\n",
       "      <td>16.547957</td>\n",
       "      <td>154.459048</td>\n",
       "      <td>-1.0</td>\n",
       "      <td>0.0</td>\n",
       "      <td>0.0</td>\n",
       "      <td>4.0</td>\n",
       "      <td>20341.0</td>\n",
       "    </tr>\n",
       "  </tbody>\n",
       "</table>\n",
       "</div>"
      ],
      "text/plain": [
       "                     count unique                                   top  \\\n",
       "IDLink             93239.0    NaN                                   NaN   \n",
       "Title                93239  81259                   Business Highlights   \n",
       "Headline             93224  86694  Read full story for latest details.    \n",
       "Source               92960   5756                             Bloomberg   \n",
       "Topic                93239      4                               economy   \n",
       "PublishDate          93239  82644                   2016-05-19 00:00:00   \n",
       "SentimentTitle     93239.0    NaN                                   NaN   \n",
       "SentimentHeadline  93239.0    NaN                                   NaN   \n",
       "Facebook           93239.0    NaN                                   NaN   \n",
       "GooglePlus         93239.0    NaN                                   NaN   \n",
       "LinkedIn           93239.0    NaN                                   NaN   \n",
       "\n",
       "                    freq          mean           std       min       25%  \\\n",
       "IDLink               NaN  51560.653257  30391.078704       1.0   24301.5   \n",
       "Title                 37           NaN           NaN       NaN       NaN   \n",
       "Headline              18           NaN           NaN       NaN       NaN   \n",
       "Source              1732           NaN           NaN       NaN       NaN   \n",
       "Topic              33928           NaN           NaN       NaN       NaN   \n",
       "PublishDate          112           NaN           NaN       NaN       NaN   \n",
       "SentimentTitle       NaN     -0.005411      0.136431 -0.950694 -0.079057   \n",
       "SentimentHeadline    NaN     -0.027493      0.141964 -0.755433 -0.114574   \n",
       "Facebook             NaN    113.141336    620.173233      -1.0       0.0   \n",
       "GooglePlus           NaN      3.888362     18.492648      -1.0       0.0   \n",
       "LinkedIn             NaN     16.547957    154.459048      -1.0       0.0   \n",
       "\n",
       "                        50%       75%       max  \n",
       "IDLink              52275.0   76585.5  104802.0  \n",
       "Title                   NaN       NaN       NaN  \n",
       "Headline                NaN       NaN       NaN  \n",
       "Source                  NaN       NaN       NaN  \n",
       "Topic                   NaN       NaN       NaN  \n",
       "PublishDate             NaN       NaN       NaN  \n",
       "SentimentTitle          0.0  0.064255  0.962354  \n",
       "SentimentHeadline -0.026064  0.059709  0.964646  \n",
       "Facebook                5.0      33.0   49211.0  \n",
       "GooglePlus              0.0       2.0    1267.0  \n",
       "LinkedIn                0.0       4.0   20341.0  "
      ]
     },
     "execution_count": 5,
     "metadata": {},
     "output_type": "execute_result"
    }
   ],
   "source": [
    "df_newsone.describe(include='all').T"
   ]
  },
  {
   "cell_type": "markdown",
   "id": "0818211c",
   "metadata": {},
   "source": [
    "- There is no need to apply outlier treatment over the dataframe beacuse there is no mejor diffrence between `mean` column and `50%` column \n",
    "\n",
    "\n",
    "- There is null values in `Headline` and `Source` columns"
   ]
  },
  {
   "cell_type": "markdown",
   "id": "f4e98839",
   "metadata": {},
   "source": [
    "#### Check for data types"
   ]
  },
  {
   "cell_type": "code",
   "execution_count": 6,
   "id": "d41e6b9f",
   "metadata": {},
   "outputs": [
    {
     "name": "stdout",
     "output_type": "stream",
     "text": [
      "<class 'pandas.core.frame.DataFrame'>\n",
      "RangeIndex: 93239 entries, 0 to 93238\n",
      "Data columns (total 11 columns):\n",
      " #   Column             Non-Null Count  Dtype  \n",
      "---  ------             --------------  -----  \n",
      " 0   IDLink             93239 non-null  float64\n",
      " 1   Title              93239 non-null  object \n",
      " 2   Headline           93224 non-null  object \n",
      " 3   Source             92960 non-null  object \n",
      " 4   Topic              93239 non-null  object \n",
      " 5   PublishDate        93239 non-null  object \n",
      " 6   SentimentTitle     93239 non-null  float64\n",
      " 7   SentimentHeadline  93239 non-null  float64\n",
      " 8   Facebook           93239 non-null  int64  \n",
      " 9   GooglePlus         93239 non-null  int64  \n",
      " 10  LinkedIn           93239 non-null  int64  \n",
      "dtypes: float64(3), int64(3), object(5)\n",
      "memory usage: 7.8+ MB\n"
     ]
    }
   ],
   "source": [
    "df_newsone.info()"
   ]
  },
  {
   "cell_type": "markdown",
   "id": "fec50af7",
   "metadata": {},
   "source": [
    "- we can change datatype for `IDLink` columns"
   ]
  },
  {
   "cell_type": "markdown",
   "id": "6a5d7f70",
   "metadata": {},
   "source": [
    "##### Interpretation \n",
    "- There are 93239 observation and 11 features\n",
    "- There is null values in `Headline` and `Source` columns\n",
    "- we can change datatype for `IDLink` columns"
   ]
  },
  {
   "cell_type": "markdown",
   "id": "cba02d8f",
   "metadata": {},
   "source": [
    "#### Action "
   ]
  },
  {
   "cell_type": "code",
   "execution_count": 7,
   "id": "8486c3c7",
   "metadata": {},
   "outputs": [
    {
     "data": {
      "text/plain": [
       "80690.0    2\n",
       "28854.0    2\n",
       "81052.0    2\n",
       "80994.0    2\n",
       "99248.0    1\n",
       "          ..\n",
       "74445.0    1\n",
       "74382.0    1\n",
       "19495.0    1\n",
       "19566.0    1\n",
       "61870.0    1\n",
       "Name: IDLink, Length: 93235, dtype: int64"
      ]
     },
     "execution_count": 7,
     "metadata": {},
     "output_type": "execute_result"
    }
   ],
   "source": [
    "df_newsone.IDLink.value_counts()"
   ]
  },
  {
   "cell_type": "code",
   "execution_count": 8,
   "id": "7ab05f0a",
   "metadata": {},
   "outputs": [],
   "source": [
    "df_newsone.IDLink= df_newsone.IDLink.astype('int')             "
   ]
  },
  {
   "cell_type": "markdown",
   "id": "d65c5dbe",
   "metadata": {},
   "source": [
    "### Step 2 : Null values check "
   ]
  },
  {
   "cell_type": "code",
   "execution_count": 9,
   "id": "681031cb",
   "metadata": {},
   "outputs": [
    {
     "data": {
      "text/plain": [
       "IDLink               0.000000\n",
       "Title                0.000000\n",
       "Headline             0.016088\n",
       "Source               0.299231\n",
       "Topic                0.000000\n",
       "PublishDate          0.000000\n",
       "SentimentTitle       0.000000\n",
       "SentimentHeadline    0.000000\n",
       "Facebook             0.000000\n",
       "GooglePlus           0.000000\n",
       "LinkedIn             0.000000\n",
       "dtype: float64"
      ]
     },
     "execution_count": 9,
     "metadata": {},
     "output_type": "execute_result"
    }
   ],
   "source": [
    "(df_newsone.isnull().sum()*100)/len(df_newsone)"
   ]
  },
  {
   "cell_type": "markdown",
   "id": "41f35b2f",
   "metadata": {},
   "source": [
    "- there is 0.29% null values in `Source` so we drop that rows\n",
    "- and `Headline` columns 0.016% null values "
   ]
  },
  {
   "cell_type": "code",
   "execution_count": 10,
   "id": "c0b7d8da",
   "metadata": {},
   "outputs": [],
   "source": [
    "df_newsone=df_newsone.dropna().copy()"
   ]
  },
  {
   "cell_type": "code",
   "execution_count": 11,
   "id": "43b37061",
   "metadata": {},
   "outputs": [],
   "source": [
    "df_newsone.to_csv(\"remove_null_value.csv\",index=False)"
   ]
  },
  {
   "cell_type": "code",
   "execution_count": 12,
   "id": "59bf2329",
   "metadata": {},
   "outputs": [
    {
     "data": {
      "text/html": [
       "<div>\n",
       "<style scoped>\n",
       "    .dataframe tbody tr th:only-of-type {\n",
       "        vertical-align: middle;\n",
       "    }\n",
       "\n",
       "    .dataframe tbody tr th {\n",
       "        vertical-align: top;\n",
       "    }\n",
       "\n",
       "    .dataframe thead th {\n",
       "        text-align: right;\n",
       "    }\n",
       "</style>\n",
       "<table border=\"1\" class=\"dataframe\">\n",
       "  <thead>\n",
       "    <tr style=\"text-align: right;\">\n",
       "      <th></th>\n",
       "      <th>IDLink</th>\n",
       "      <th>Title</th>\n",
       "      <th>Headline</th>\n",
       "      <th>Source</th>\n",
       "      <th>Topic</th>\n",
       "      <th>PublishDate</th>\n",
       "      <th>SentimentTitle</th>\n",
       "      <th>SentimentHeadline</th>\n",
       "      <th>Facebook</th>\n",
       "      <th>GooglePlus</th>\n",
       "      <th>LinkedIn</th>\n",
       "    </tr>\n",
       "  </thead>\n",
       "  <tbody>\n",
       "    <tr>\n",
       "      <th>0</th>\n",
       "      <td>99248</td>\n",
       "      <td>Obama Lays Wreath at Arlington National Cemetery</td>\n",
       "      <td>Obama Lays Wreath at Arlington National Cemete...</td>\n",
       "      <td>USA TODAY</td>\n",
       "      <td>obama</td>\n",
       "      <td>2002-04-02 00:00:00</td>\n",
       "      <td>0.000000</td>\n",
       "      <td>-0.053300</td>\n",
       "      <td>-1</td>\n",
       "      <td>-1</td>\n",
       "      <td>-1</td>\n",
       "    </tr>\n",
       "    <tr>\n",
       "      <th>1</th>\n",
       "      <td>10423</td>\n",
       "      <td>A Look at the Health of the Chinese Economy</td>\n",
       "      <td>Tim Haywood, investment director business-unit...</td>\n",
       "      <td>Bloomberg</td>\n",
       "      <td>economy</td>\n",
       "      <td>2008-09-20 00:00:00</td>\n",
       "      <td>0.208333</td>\n",
       "      <td>-0.156386</td>\n",
       "      <td>-1</td>\n",
       "      <td>-1</td>\n",
       "      <td>-1</td>\n",
       "    </tr>\n",
       "    <tr>\n",
       "      <th>2</th>\n",
       "      <td>18828</td>\n",
       "      <td>Nouriel Roubini: Global Economy Not Back to 2008</td>\n",
       "      <td>Nouriel Roubini, NYU professor and chairman at...</td>\n",
       "      <td>Bloomberg</td>\n",
       "      <td>economy</td>\n",
       "      <td>2012-01-28 00:00:00</td>\n",
       "      <td>-0.425210</td>\n",
       "      <td>0.139754</td>\n",
       "      <td>-1</td>\n",
       "      <td>-1</td>\n",
       "      <td>-1</td>\n",
       "    </tr>\n",
       "    <tr>\n",
       "      <th>3</th>\n",
       "      <td>27788</td>\n",
       "      <td>Finland GDP Expands In Q4</td>\n",
       "      <td>Finland's economy expanded marginally in the t...</td>\n",
       "      <td>RTT News</td>\n",
       "      <td>economy</td>\n",
       "      <td>2015-03-01 00:06:00</td>\n",
       "      <td>0.000000</td>\n",
       "      <td>0.026064</td>\n",
       "      <td>-1</td>\n",
       "      <td>-1</td>\n",
       "      <td>-1</td>\n",
       "    </tr>\n",
       "    <tr>\n",
       "      <th>4</th>\n",
       "      <td>27789</td>\n",
       "      <td>Tourism, govt spending buoys Thai economy in J...</td>\n",
       "      <td>Tourism and public spending continued to boost...</td>\n",
       "      <td>The Nation - Thailand&amp;#39;s English news</td>\n",
       "      <td>economy</td>\n",
       "      <td>2015-03-01 00:11:00</td>\n",
       "      <td>0.000000</td>\n",
       "      <td>0.141084</td>\n",
       "      <td>-1</td>\n",
       "      <td>-1</td>\n",
       "      <td>-1</td>\n",
       "    </tr>\n",
       "  </tbody>\n",
       "</table>\n",
       "</div>"
      ],
      "text/plain": [
       "   IDLink                                              Title  \\\n",
       "0   99248   Obama Lays Wreath at Arlington National Cemetery   \n",
       "1   10423        A Look at the Health of the Chinese Economy   \n",
       "2   18828   Nouriel Roubini: Global Economy Not Back to 2008   \n",
       "3   27788                          Finland GDP Expands In Q4   \n",
       "4   27789  Tourism, govt spending buoys Thai economy in J...   \n",
       "\n",
       "                                            Headline  \\\n",
       "0  Obama Lays Wreath at Arlington National Cemete...   \n",
       "1  Tim Haywood, investment director business-unit...   \n",
       "2  Nouriel Roubini, NYU professor and chairman at...   \n",
       "3  Finland's economy expanded marginally in the t...   \n",
       "4  Tourism and public spending continued to boost...   \n",
       "\n",
       "                                     Source    Topic          PublishDate  \\\n",
       "0                                 USA TODAY    obama  2002-04-02 00:00:00   \n",
       "1                                 Bloomberg  economy  2008-09-20 00:00:00   \n",
       "2                                 Bloomberg  economy  2012-01-28 00:00:00   \n",
       "3                                  RTT News  economy  2015-03-01 00:06:00   \n",
       "4  The Nation - Thailand&#39;s English news  economy  2015-03-01 00:11:00   \n",
       "\n",
       "   SentimentTitle  SentimentHeadline  Facebook  GooglePlus  LinkedIn  \n",
       "0        0.000000          -0.053300        -1          -1        -1  \n",
       "1        0.208333          -0.156386        -1          -1        -1  \n",
       "2       -0.425210           0.139754        -1          -1        -1  \n",
       "3        0.000000           0.026064        -1          -1        -1  \n",
       "4        0.000000           0.141084        -1          -1        -1  "
      ]
     },
     "execution_count": 12,
     "metadata": {},
     "output_type": "execute_result"
    }
   ],
   "source": [
    "df_news = pd.read_csv(\"remove_null_value.csv\")\n",
    "df_news.head()"
   ]
  },
  {
   "cell_type": "code",
   "execution_count": 13,
   "id": "12249a65",
   "metadata": {},
   "outputs": [
    {
     "data": {
      "text/plain": [
       "IDLink               0\n",
       "Title                0\n",
       "Headline             0\n",
       "Source               0\n",
       "Topic                0\n",
       "PublishDate          0\n",
       "SentimentTitle       0\n",
       "SentimentHeadline    0\n",
       "Facebook             0\n",
       "GooglePlus           0\n",
       "LinkedIn             0\n",
       "dtype: int64"
      ]
     },
     "execution_count": 13,
     "metadata": {},
     "output_type": "execute_result"
    }
   ],
   "source": [
    "df_news.isnull().sum()"
   ]
  },
  {
   "cell_type": "markdown",
   "id": "ac15e7f9",
   "metadata": {},
   "source": [
    "### Step 3 : Outlier Treatment"
   ]
  },
  {
   "cell_type": "code",
   "execution_count": 14,
   "id": "91cac02c",
   "metadata": {},
   "outputs": [
    {
     "data": {
      "image/png": "[encoded data removed]",
      "text/plain": [
       "<Figure size 2160x1440 with 5 Axes>"
      ]
     },
     "metadata": {
      "needs_background": "light"
     },
     "output_type": "display_data"
    }
   ],
   "source": [
    "# Set font style for x_label & y_label\n",
    "font = {'family':'serif',\n",
    "        'color':'darkslateblue',\n",
    "        'weight':'normal',\n",
    "        'size':18,\n",
    "        }\n",
    "\n",
    "# Set font style for title\n",
    "font_one = {'family':'serif',\n",
    "        'color':'darkblue',\n",
    "        'weight':'normal',\n",
    "        'size':23,\n",
    "        }\n",
    "\n",
    "# Set figure size \n",
    "plt.figure(figsize=(30,20))\n",
    "\n",
    "# Use the subplots for convinant \n",
    "# SentimentTitle feature \n",
    "plt.subplot(2, 3, 1)\n",
    "plt.boxplot(df_news.SentimentTitle)\n",
    "plt.xlabel(\"SentimentTitle\",fontdict=font)\n",
    "plt.ylabel(\"Values\",fontdict=font)\n",
    "plt.grid()\n",
    "plt.title(\"Outlier Identification In SentimentTitle\",fontdict=font_one,loc='center')\n",
    "\n",
    "# SentimentHeadline feature\n",
    "plt.subplot(2, 3, 2)\n",
    "plt.boxplot(df_news.SentimentHeadline)\n",
    "plt.xlabel(\"SentimentHeadline\",fontdict=font)\n",
    "plt.ylabel(\"Values\",fontdict=font)\n",
    "plt.grid()\n",
    "plt.title(\"Outlier Identification In SentimentHeadline\",fontdict=font_one,loc='center')\n",
    "\n",
    "# Facebook feature\n",
    "plt.subplot(2, 3, 3)\n",
    "plt.boxplot(df_news.Facebook)\n",
    "plt.xlabel(\"Facebook\",fontdict=font)\n",
    "plt.ylabel(\"Values\",fontdict=font)\n",
    "plt.grid()\n",
    "plt.title(\"Outlier Identification In Facebook\",fontdict=font_one,loc='center')\n",
    "\n",
    "# GooglePlus feature\n",
    "plt.subplot(2, 3, 4)\n",
    "plt.boxplot(df_news.GooglePlus)\n",
    "plt.xlabel(\"GooglePlus\",fontdict=font)\n",
    "plt.ylabel(\"Values\",fontdict=font)\n",
    "plt.grid()\n",
    "plt.title(\"Outlier Identification In GooglePlus\",fontdict=font_one,loc='center')\n",
    "\n",
    "# LinkedIn feature\n",
    "plt.subplot(2, 3, 5)\n",
    "plt.boxplot(df_news.LinkedIn)\n",
    "plt.xlabel(\"LinkedIn\",fontdict=font)\n",
    "plt.ylabel(\"Values\",fontdict=font)\n",
    "plt.grid()\n",
    "plt.title(\"Outlier Identification In LinkedIn\",fontdict=font_one,loc='center')\n",
    "\n",
    "plt.show()"
   ]
  },
  {
   "cell_type": "markdown",
   "id": "9549e086",
   "metadata": {},
   "source": [
    "- There is no outliers in data "
   ]
  },
  {
   "cell_type": "markdown",
   "id": "eecabf64",
   "metadata": {},
   "source": [
    "## EDA (Exploratory Data Analysis)"
   ]
  },
  {
   "cell_type": "code",
   "execution_count": 15,
   "id": "f66bcc69",
   "metadata": {},
   "outputs": [
    {
     "data": {
      "text/html": [
       "<div>\n",
       "<style scoped>\n",
       "    .dataframe tbody tr th:only-of-type {\n",
       "        vertical-align: middle;\n",
       "    }\n",
       "\n",
       "    .dataframe tbody tr th {\n",
       "        vertical-align: top;\n",
       "    }\n",
       "\n",
       "    .dataframe thead th {\n",
       "        text-align: right;\n",
       "    }\n",
       "</style>\n",
       "<table border=\"1\" class=\"dataframe\">\n",
       "  <thead>\n",
       "    <tr style=\"text-align: right;\">\n",
       "      <th></th>\n",
       "      <th>IDLink</th>\n",
       "      <th>Title</th>\n",
       "      <th>Headline</th>\n",
       "      <th>Source</th>\n",
       "      <th>Topic</th>\n",
       "      <th>PublishDate</th>\n",
       "      <th>SentimentTitle</th>\n",
       "      <th>SentimentHeadline</th>\n",
       "      <th>Facebook</th>\n",
       "      <th>GooglePlus</th>\n",
       "      <th>LinkedIn</th>\n",
       "    </tr>\n",
       "  </thead>\n",
       "  <tbody>\n",
       "    <tr>\n",
       "      <th>0</th>\n",
       "      <td>99248</td>\n",
       "      <td>Obama Lays Wreath at Arlington National Cemetery</td>\n",
       "      <td>Obama Lays Wreath at Arlington National Cemete...</td>\n",
       "      <td>USA TODAY</td>\n",
       "      <td>obama</td>\n",
       "      <td>2002-04-02 00:00:00</td>\n",
       "      <td>0.000000</td>\n",
       "      <td>-0.053300</td>\n",
       "      <td>-1</td>\n",
       "      <td>-1</td>\n",
       "      <td>-1</td>\n",
       "    </tr>\n",
       "    <tr>\n",
       "      <th>1</th>\n",
       "      <td>10423</td>\n",
       "      <td>A Look at the Health of the Chinese Economy</td>\n",
       "      <td>Tim Haywood, investment director business-unit...</td>\n",
       "      <td>Bloomberg</td>\n",
       "      <td>economy</td>\n",
       "      <td>2008-09-20 00:00:00</td>\n",
       "      <td>0.208333</td>\n",
       "      <td>-0.156386</td>\n",
       "      <td>-1</td>\n",
       "      <td>-1</td>\n",
       "      <td>-1</td>\n",
       "    </tr>\n",
       "    <tr>\n",
       "      <th>2</th>\n",
       "      <td>18828</td>\n",
       "      <td>Nouriel Roubini: Global Economy Not Back to 2008</td>\n",
       "      <td>Nouriel Roubini, NYU professor and chairman at...</td>\n",
       "      <td>Bloomberg</td>\n",
       "      <td>economy</td>\n",
       "      <td>2012-01-28 00:00:00</td>\n",
       "      <td>-0.425210</td>\n",
       "      <td>0.139754</td>\n",
       "      <td>-1</td>\n",
       "      <td>-1</td>\n",
       "      <td>-1</td>\n",
       "    </tr>\n",
       "    <tr>\n",
       "      <th>3</th>\n",
       "      <td>27788</td>\n",
       "      <td>Finland GDP Expands In Q4</td>\n",
       "      <td>Finland's economy expanded marginally in the t...</td>\n",
       "      <td>RTT News</td>\n",
       "      <td>economy</td>\n",
       "      <td>2015-03-01 00:06:00</td>\n",
       "      <td>0.000000</td>\n",
       "      <td>0.026064</td>\n",
       "      <td>-1</td>\n",
       "      <td>-1</td>\n",
       "      <td>-1</td>\n",
       "    </tr>\n",
       "    <tr>\n",
       "      <th>4</th>\n",
       "      <td>27789</td>\n",
       "      <td>Tourism, govt spending buoys Thai economy in J...</td>\n",
       "      <td>Tourism and public spending continued to boost...</td>\n",
       "      <td>The Nation - Thailand&amp;#39;s English news</td>\n",
       "      <td>economy</td>\n",
       "      <td>2015-03-01 00:11:00</td>\n",
       "      <td>0.000000</td>\n",
       "      <td>0.141084</td>\n",
       "      <td>-1</td>\n",
       "      <td>-1</td>\n",
       "      <td>-1</td>\n",
       "    </tr>\n",
       "  </tbody>\n",
       "</table>\n",
       "</div>"
      ],
      "text/plain": [
       "   IDLink                                              Title  \\\n",
       "0   99248   Obama Lays Wreath at Arlington National Cemetery   \n",
       "1   10423        A Look at the Health of the Chinese Economy   \n",
       "2   18828   Nouriel Roubini: Global Economy Not Back to 2008   \n",
       "3   27788                          Finland GDP Expands In Q4   \n",
       "4   27789  Tourism, govt spending buoys Thai economy in J...   \n",
       "\n",
       "                                            Headline  \\\n",
       "0  Obama Lays Wreath at Arlington National Cemete...   \n",
       "1  Tim Haywood, investment director business-unit...   \n",
       "2  Nouriel Roubini, NYU professor and chairman at...   \n",
       "3  Finland's economy expanded marginally in the t...   \n",
       "4  Tourism and public spending continued to boost...   \n",
       "\n",
       "                                     Source    Topic          PublishDate  \\\n",
       "0                                 USA TODAY    obama  2002-04-02 00:00:00   \n",
       "1                                 Bloomberg  economy  2008-09-20 00:00:00   \n",
       "2                                 Bloomberg  economy  2012-01-28 00:00:00   \n",
       "3                                  RTT News  economy  2015-03-01 00:06:00   \n",
       "4  The Nation - Thailand&#39;s English news  economy  2015-03-01 00:11:00   \n",
       "\n",
       "   SentimentTitle  SentimentHeadline  Facebook  GooglePlus  LinkedIn  \n",
       "0        0.000000          -0.053300        -1          -1        -1  \n",
       "1        0.208333          -0.156386        -1          -1        -1  \n",
       "2       -0.425210           0.139754        -1          -1        -1  \n",
       "3        0.000000           0.026064        -1          -1        -1  \n",
       "4        0.000000           0.141084        -1          -1        -1  "
      ]
     },
     "execution_count": 15,
     "metadata": {},
     "output_type": "execute_result"
    }
   ],
   "source": [
    "df_news.head()"
   ]
  },
  {
   "cell_type": "markdown",
   "id": "71619f61",
   "metadata": {},
   "source": [
    "### 1. Univrient Analysis"
   ]
  },
  {
   "cell_type": "code",
   "execution_count": 16,
   "id": "c4321eda",
   "metadata": {},
   "outputs": [
    {
     "data": {
      "image/png": "[encoded data removed]",
      "text/plain": [
       "<Figure size 648x360 with 1 Axes>"
      ]
     },
     "metadata": {
      "needs_background": "light"
     },
     "output_type": "display_data"
    }
   ],
   "source": [
    "plt.figure(figsize=(9,5))\n",
    "sns.countplot(df_news.Topic)\n",
    "sns.set_style(\"whitegrid\")\n",
    "plt.xlabel(\"Topic\",fontdict=font)\n",
    "plt.ylabel(\"Values\",fontdict=font)\n",
    "plt.title(\"Count of the Topic\",fontdict=font_one,loc='center')\n",
    "plt.show()"
   ]
  },
  {
   "cell_type": "code",
   "execution_count": 17,
   "id": "fac1a0a2",
   "metadata": {},
   "outputs": [],
   "source": [
    "df_notText = df_news[[\"Facebook\",\"GooglePlus\",\"LinkedIn\",\"SentimentTitle\",\"SentimentHeadline\"]].copy()"
   ]
  },
  {
   "cell_type": "code",
   "execution_count": 18,
   "id": "e1c6d6ef",
   "metadata": {},
   "outputs": [
    {
     "data": {
      "image/png": "[encoded data removed]",
      "text/plain": [
       "<Figure size 648x360 with 1 Axes>"
      ]
     },
     "metadata": {},
     "output_type": "display_data"
    }
   ],
   "source": [
    "plt.figure(figsize=(9,5))\n",
    "df_notText[\"SentimentTitle\"].hist()\n",
    "sns.set_style(\"whitegrid\")\n",
    "plt.xlabel(\"SentimentTitle\",fontdict=font)\n",
    "plt.ylabel(\"Values\",fontdict=font)\n",
    "plt.title(\"Hist of the SentimentTitle\",fontdict=font_one,loc='center')\n",
    "plt.show()"
   ]
  },
  {
   "cell_type": "code",
   "execution_count": 19,
   "id": "3070e6d9",
   "metadata": {},
   "outputs": [
    {
     "data": {
      "image/png": "[encoded data removed]",
      "text/plain": [
       "<Figure size 648x360 with 1 Axes>"
      ]
     },
     "metadata": {},
     "output_type": "display_data"
    }
   ],
   "source": [
    "plt.figure(figsize=(9,5))\n",
    "df_notText[\"SentimentHeadline\"].hist()\n",
    "sns.set_style(\"whitegrid\")\n",
    "plt.xlabel(\"SentimentHeadline\",fontdict=font)\n",
    "plt.ylabel(\"Values\",fontdict=font)\n",
    "plt.title(\"Hist of the SentimentHeadline\",fontdict=font_one,loc='center')\n",
    "plt.show()"
   ]
  },
  {
   "cell_type": "code",
   "execution_count": 20,
   "id": "e7ebd64c",
   "metadata": {},
   "outputs": [
    {
     "data": {
      "text/html": [
       "<div>\n",
       "<style scoped>\n",
       "    .dataframe tbody tr th:only-of-type {\n",
       "        vertical-align: middle;\n",
       "    }\n",
       "\n",
       "    .dataframe tbody tr th {\n",
       "        vertical-align: top;\n",
       "    }\n",
       "\n",
       "    .dataframe thead th {\n",
       "        text-align: right;\n",
       "    }\n",
       "</style>\n",
       "<table border=\"1\" class=\"dataframe\">\n",
       "  <thead>\n",
       "    <tr style=\"text-align: right;\">\n",
       "      <th></th>\n",
       "      <th>Facebook</th>\n",
       "      <th>GooglePlus</th>\n",
       "      <th>LinkedIn</th>\n",
       "    </tr>\n",
       "  </thead>\n",
       "  <tbody>\n",
       "    <tr>\n",
       "      <th>count</th>\n",
       "      <td>92945.000000</td>\n",
       "      <td>92945.000000</td>\n",
       "      <td>92945.000000</td>\n",
       "    </tr>\n",
       "    <tr>\n",
       "      <th>mean</th>\n",
       "      <td>113.497897</td>\n",
       "      <td>3.901124</td>\n",
       "      <td>16.600882</td>\n",
       "    </tr>\n",
       "    <tr>\n",
       "      <th>std</th>\n",
       "      <td>621.120839</td>\n",
       "      <td>18.520443</td>\n",
       "      <td>154.700274</td>\n",
       "    </tr>\n",
       "    <tr>\n",
       "      <th>min</th>\n",
       "      <td>-1.000000</td>\n",
       "      <td>-1.000000</td>\n",
       "      <td>-1.000000</td>\n",
       "    </tr>\n",
       "    <tr>\n",
       "      <th>25%</th>\n",
       "      <td>0.000000</td>\n",
       "      <td>0.000000</td>\n",
       "      <td>0.000000</td>\n",
       "    </tr>\n",
       "    <tr>\n",
       "      <th>50%</th>\n",
       "      <td>5.000000</td>\n",
       "      <td>0.000000</td>\n",
       "      <td>0.000000</td>\n",
       "    </tr>\n",
       "    <tr>\n",
       "      <th>75%</th>\n",
       "      <td>33.000000</td>\n",
       "      <td>2.000000</td>\n",
       "      <td>4.000000</td>\n",
       "    </tr>\n",
       "    <tr>\n",
       "      <th>max</th>\n",
       "      <td>49211.000000</td>\n",
       "      <td>1267.000000</td>\n",
       "      <td>20341.000000</td>\n",
       "    </tr>\n",
       "  </tbody>\n",
       "</table>\n",
       "</div>"
      ],
      "text/plain": [
       "           Facebook    GooglePlus      LinkedIn\n",
       "count  92945.000000  92945.000000  92945.000000\n",
       "mean     113.497897      3.901124     16.600882\n",
       "std      621.120839     18.520443    154.700274\n",
       "min       -1.000000     -1.000000     -1.000000\n",
       "25%        0.000000      0.000000      0.000000\n",
       "50%        5.000000      0.000000      0.000000\n",
       "75%       33.000000      2.000000      4.000000\n",
       "max    49211.000000   1267.000000  20341.000000"
      ]
     },
     "execution_count": 20,
     "metadata": {},
     "output_type": "execute_result"
    }
   ],
   "source": [
    "df_notText[[\"Facebook\",\"GooglePlus\",\"LinkedIn\"]].describe()"
   ]
  },
  {
   "cell_type": "markdown",
   "id": "03aec830",
   "metadata": {},
   "source": [
    "- The above results and histogram shows that most of the data has neutral comments ,this is confirmed by the SentimentTitle and SentimentHeadline column as the 25 and 75 percentile are around the neutral value i.e. near to zero.\n",
    "</br>\n",
    "\n",
    "- Also Facebook,GooglePlus,LinkedIn , low-value means, the news was not so engaging and interesting and didn’t reach out to many people in that particular platform as confirmed by the 75% precentile of the data from the three columns are closer to 0 .\n",
    "</br>\n",
    "\n",
    "- Facebook has the higher reach as compared to GooglePlus and Linkedin."
   ]
  },
  {
   "cell_type": "markdown",
   "id": "9b2cfe97",
   "metadata": {},
   "source": [
    "### 2. Bivariate Analysis"
   ]
  },
  {
   "cell_type": "code",
   "execution_count": 21,
   "id": "a3756c9f",
   "metadata": {
    "scrolled": false
   },
   "outputs": [
    {
     "data": {
      "image/png": "[encoded data removed]",
      "text/plain": [
       "<Figure size 1440x576 with 3 Axes>"
      ]
     },
     "metadata": {},
     "output_type": "display_data"
    }
   ],
   "source": [
    "sns.set_style(\"whitegrid\")\n",
    "plt.figure(figsize=(20,8))\n",
    "plt.subplot(1,3,1)\n",
    "sns.barplot(x=df_news.Topic,y=df_news.Facebook,ci=None)\n",
    "plt.xlabel(\"Topic\",fontdict=font)\n",
    "plt.ylabel(\"Facebook popularity\",fontdict=font)\n",
    "plt.title(\"Topic of the Facebook \",fontdict=font_one,loc='center')\n",
    "\n",
    "plt.subplot(1,3,2)\n",
    "sns.barplot(x=df_news.Topic,y=df_news.GooglePlus,ci=None)\n",
    "plt.xlabel(\"Topic\",fontdict=font)\n",
    "plt.ylabel(\"GooglePlus popularity\",fontdict=font)\n",
    "plt.title(\"Topic of the GooglePlus \",fontdict=font_one,loc='center')\n",
    "\n",
    "plt.subplot(1,3,3)\n",
    "sns.barplot(x=df_news.Topic,y=df_news.LinkedIn,ci=None)\n",
    "plt.xlabel(\"Topic\",fontdict=font)\n",
    "plt.ylabel(\"LinkedIn popularity\",fontdict=font)\n",
    "plt.title(\"Topic of the LinkedIn \",fontdict=font_one,loc='center')\n",
    "\n",
    "plt.show()"
   ]
  },
  {
   "cell_type": "markdown",
   "id": "06c8f256",
   "metadata": {},
   "source": [
    "### 3.Multivariate analysis"
   ]
  },
  {
   "cell_type": "code",
   "execution_count": 22,
   "id": "313c3173",
   "metadata": {},
   "outputs": [
    {
     "data": {
      "image/png": "[encoded data removed]",
      "text/plain": [
       "<Figure size 432x288 with 2 Axes>"
      ]
     },
     "metadata": {},
     "output_type": "display_data"
    }
   ],
   "source": [
    "sns.heatmap(df_news[[\"Facebook\",\"GooglePlus\",\"LinkedIn\",\"SentimentTitle\",\"SentimentHeadline\"]].corr(),cmap='BuGn_r',annot=True)\n",
    "plt.show()"
   ]
  },
  {
   "cell_type": "markdown",
   "id": "7b2200fa",
   "metadata": {},
   "source": [
    "- 51% of facebook news are also share in google\n",
    "- There not much correlation between target variable with independend variable"
   ]
  },
  {
   "cell_type": "markdown",
   "id": "27df1c39",
   "metadata": {},
   "source": [
    "#### summary\n",
    "- In count plot it can be seen that economy related news were most accurate comparing to other news\n",
    "- In bievarient news topic of obama were popular in time among facebook and googleplus. while microsoft was accurately visible in linkedin"
   ]
  },
  {
   "cell_type": "markdown",
   "id": "471c1727",
   "metadata": {},
   "source": [
    "## Feature Engineering"
   ]
  },
  {
   "cell_type": "code",
   "execution_count": 23,
   "id": "85e1d160",
   "metadata": {
    "scrolled": true
   },
   "outputs": [
    {
     "data": {
      "text/html": [
       "<div>\n",
       "<style scoped>\n",
       "    .dataframe tbody tr th:only-of-type {\n",
       "        vertical-align: middle;\n",
       "    }\n",
       "\n",
       "    .dataframe tbody tr th {\n",
       "        vertical-align: top;\n",
       "    }\n",
       "\n",
       "    .dataframe thead th {\n",
       "        text-align: right;\n",
       "    }\n",
       "</style>\n",
       "<table border=\"1\" class=\"dataframe\">\n",
       "  <thead>\n",
       "    <tr style=\"text-align: right;\">\n",
       "      <th></th>\n",
       "      <th>IDLink</th>\n",
       "      <th>Title</th>\n",
       "      <th>Headline</th>\n",
       "      <th>Source</th>\n",
       "      <th>Topic</th>\n",
       "      <th>PublishDate</th>\n",
       "      <th>SentimentTitle</th>\n",
       "      <th>SentimentHeadline</th>\n",
       "      <th>Facebook</th>\n",
       "      <th>GooglePlus</th>\n",
       "      <th>LinkedIn</th>\n",
       "      <th>Publish_Time</th>\n",
       "      <th>Publish_Date</th>\n",
       "      <th>Publish_Month</th>\n",
       "      <th>Publish_Day</th>\n",
       "      <th>Season</th>\n",
       "    </tr>\n",
       "  </thead>\n",
       "  <tbody>\n",
       "    <tr>\n",
       "      <th>0</th>\n",
       "      <td>99248</td>\n",
       "      <td>Obama Lays Wreath at Arlington National Cemetery</td>\n",
       "      <td>Obama Lays Wreath at Arlington National Cemete...</td>\n",
       "      <td>USA TODAY</td>\n",
       "      <td>obama</td>\n",
       "      <td>2002-04-02 00:00:00</td>\n",
       "      <td>0.000000</td>\n",
       "      <td>-0.053300</td>\n",
       "      <td>-1</td>\n",
       "      <td>-1</td>\n",
       "      <td>-1</td>\n",
       "      <td>00:00:00</td>\n",
       "      <td>2002-04-02</td>\n",
       "      <td>April</td>\n",
       "      <td>2</td>\n",
       "      <td>Spring</td>\n",
       "    </tr>\n",
       "    <tr>\n",
       "      <th>1</th>\n",
       "      <td>10423</td>\n",
       "      <td>A Look at the Health of the Chinese Economy</td>\n",
       "      <td>Tim Haywood, investment director business-unit...</td>\n",
       "      <td>Bloomberg</td>\n",
       "      <td>economy</td>\n",
       "      <td>2008-09-20 00:00:00</td>\n",
       "      <td>0.208333</td>\n",
       "      <td>-0.156386</td>\n",
       "      <td>-1</td>\n",
       "      <td>-1</td>\n",
       "      <td>-1</td>\n",
       "      <td>00:00:00</td>\n",
       "      <td>2008-09-20</td>\n",
       "      <td>September</td>\n",
       "      <td>20</td>\n",
       "      <td>Fall</td>\n",
       "    </tr>\n",
       "    <tr>\n",
       "      <th>2</th>\n",
       "      <td>18828</td>\n",
       "      <td>Nouriel Roubini: Global Economy Not Back to 2008</td>\n",
       "      <td>Nouriel Roubini, NYU professor and chairman at...</td>\n",
       "      <td>Bloomberg</td>\n",
       "      <td>economy</td>\n",
       "      <td>2012-01-28 00:00:00</td>\n",
       "      <td>-0.425210</td>\n",
       "      <td>0.139754</td>\n",
       "      <td>-1</td>\n",
       "      <td>-1</td>\n",
       "      <td>-1</td>\n",
       "      <td>00:00:00</td>\n",
       "      <td>2012-01-28</td>\n",
       "      <td>January</td>\n",
       "      <td>28</td>\n",
       "      <td>Winter</td>\n",
       "    </tr>\n",
       "    <tr>\n",
       "      <th>3</th>\n",
       "      <td>27788</td>\n",
       "      <td>Finland GDP Expands In Q4</td>\n",
       "      <td>Finland's economy expanded marginally in the t...</td>\n",
       "      <td>RTT News</td>\n",
       "      <td>economy</td>\n",
       "      <td>2015-03-01 00:06:00</td>\n",
       "      <td>0.000000</td>\n",
       "      <td>0.026064</td>\n",
       "      <td>-1</td>\n",
       "      <td>-1</td>\n",
       "      <td>-1</td>\n",
       "      <td>00:06:00</td>\n",
       "      <td>2015-03-01</td>\n",
       "      <td>March</td>\n",
       "      <td>1</td>\n",
       "      <td>Spring</td>\n",
       "    </tr>\n",
       "    <tr>\n",
       "      <th>4</th>\n",
       "      <td>27789</td>\n",
       "      <td>Tourism, govt spending buoys Thai economy in J...</td>\n",
       "      <td>Tourism and public spending continued to boost...</td>\n",
       "      <td>The Nation - Thailand&amp;#39;s English news</td>\n",
       "      <td>economy</td>\n",
       "      <td>2015-03-01 00:11:00</td>\n",
       "      <td>0.000000</td>\n",
       "      <td>0.141084</td>\n",
       "      <td>-1</td>\n",
       "      <td>-1</td>\n",
       "      <td>-1</td>\n",
       "      <td>00:11:00</td>\n",
       "      <td>2015-03-01</td>\n",
       "      <td>March</td>\n",
       "      <td>1</td>\n",
       "      <td>Spring</td>\n",
       "    </tr>\n",
       "  </tbody>\n",
       "</table>\n",
       "</div>"
      ],
      "text/plain": [
       "   IDLink                                              Title  \\\n",
       "0   99248   Obama Lays Wreath at Arlington National Cemetery   \n",
       "1   10423        A Look at the Health of the Chinese Economy   \n",
       "2   18828   Nouriel Roubini: Global Economy Not Back to 2008   \n",
       "3   27788                          Finland GDP Expands In Q4   \n",
       "4   27789  Tourism, govt spending buoys Thai economy in J...   \n",
       "\n",
       "                                            Headline  \\\n",
       "0  Obama Lays Wreath at Arlington National Cemete...   \n",
       "1  Tim Haywood, investment director business-unit...   \n",
       "2  Nouriel Roubini, NYU professor and chairman at...   \n",
       "3  Finland's economy expanded marginally in the t...   \n",
       "4  Tourism and public spending continued to boost...   \n",
       "\n",
       "                                     Source    Topic          PublishDate  \\\n",
       "0                                 USA TODAY    obama  2002-04-02 00:00:00   \n",
       "1                                 Bloomberg  economy  2008-09-20 00:00:00   \n",
       "2                                 Bloomberg  economy  2012-01-28 00:00:00   \n",
       "3                                  RTT News  economy  2015-03-01 00:06:00   \n",
       "4  The Nation - Thailand&#39;s English news  economy  2015-03-01 00:11:00   \n",
       "\n",
       "   SentimentTitle  SentimentHeadline  Facebook  GooglePlus  LinkedIn  \\\n",
       "0        0.000000          -0.053300        -1          -1        -1   \n",
       "1        0.208333          -0.156386        -1          -1        -1   \n",
       "2       -0.425210           0.139754        -1          -1        -1   \n",
       "3        0.000000           0.026064        -1          -1        -1   \n",
       "4        0.000000           0.141084        -1          -1        -1   \n",
       "\n",
       "  Publish_Time Publish_Date Publish_Month  Publish_Day  Season  \n",
       "0     00:00:00   2002-04-02         April            2  Spring  \n",
       "1     00:00:00   2008-09-20     September           20    Fall  \n",
       "2     00:00:00   2012-01-28       January           28  Winter  \n",
       "3     00:06:00   2015-03-01         March            1  Spring  \n",
       "4     00:11:00   2015-03-01         March            1  Spring  "
      ]
     },
     "execution_count": 23,
     "metadata": {},
     "output_type": "execute_result"
    }
   ],
   "source": [
    "# Split the values according to our requirement\n",
    "# Separate the Time\n",
    "df_news['Publish_Time']=df_news['PublishDate'].str.split(\" \").str[1]\n",
    "# Separate the date\n",
    "df_news['Publish_Date']=df_news['PublishDate'].str.split(\" \").str[0]\n",
    "# convert for datatype\n",
    "df_news['Publish_Date']= pd.to_datetime(df_news['Publish_Date'])\n",
    "\n",
    "# Separate the month\n",
    "df_news['Publish_Month']= df_news['Publish_Date'].dt.month\n",
    "# Separate the day\n",
    "df_news['Publish_Day']= df_news['Publish_Date'].dt.day\n",
    "# Map the Month in terms of words\n",
    "df_news[\"Season\"]=df_news[\"Publish_Month\"].copy()\n",
    "df_news.Season.replace({1:'Winter',2:'Winter',3:'Spring',4:'Spring',5:'Spring',6:'Summer',7:\"Summer\",8:\"Summer\",9:\"Fall\",10:\"Fall\",11:\"Fall\",12:\"Winter\"},inplace=True)\n",
    "\n",
    "df_news.Publish_Month.replace({1:'January',2:'February',3:'March',4:'April',5:'May',6:'June',7:\"July\",8:\"August\",9:\"September\",10:\"October\",11:\"November\",12:\"December\"},inplace=True)\n",
    "\n",
    "# Print the first 5 record\n",
    "df_news.head()"
   ]
  },
  {
   "cell_type": "code",
   "execution_count": 24,
   "id": "de0a87ac",
   "metadata": {},
   "outputs": [],
   "source": [
    "df_news.drop('PublishDate',axis=1,inplace=True)"
   ]
  },
  {
   "cell_type": "code",
   "execution_count": 25,
   "id": "9511efc3",
   "metadata": {},
   "outputs": [],
   "source": [
    "df_news_copy=df_news.copy()\n",
    "target_variable =  list(df_news_copy[\"SentimentTitle\"].copy())\n",
    "df_news_copy.drop(\"SentimentTitle\",axis=1,inplace=True)"
   ]
  },
  {
   "cell_type": "markdown",
   "id": "23028314",
   "metadata": {},
   "source": [
    "## Encoding"
   ]
  },
  {
   "cell_type": "code",
   "execution_count": 26,
   "id": "f7cc6000",
   "metadata": {},
   "outputs": [],
   "source": [
    "# Segregate the data \n",
    "df_news_copy_object = df_news_copy.select_dtypes('object')\n",
    "df_news_copy_number = df_news_copy.select_dtypes('number')"
   ]
  },
  {
   "cell_type": "code",
   "execution_count": 27,
   "id": "44580f75",
   "metadata": {},
   "outputs": [
    {
     "data": {
      "text/html": [
       "<div>\n",
       "<style scoped>\n",
       "    .dataframe tbody tr th:only-of-type {\n",
       "        vertical-align: middle;\n",
       "    }\n",
       "\n",
       "    .dataframe tbody tr th {\n",
       "        vertical-align: top;\n",
       "    }\n",
       "\n",
       "    .dataframe thead th {\n",
       "        text-align: right;\n",
       "    }\n",
       "</style>\n",
       "<table border=\"1\" class=\"dataframe\">\n",
       "  <thead>\n",
       "    <tr style=\"text-align: right;\">\n",
       "      <th></th>\n",
       "      <th>Title</th>\n",
       "      <th>Headline</th>\n",
       "      <th>Source</th>\n",
       "      <th>Topic</th>\n",
       "      <th>Publish_Time</th>\n",
       "      <th>Publish_Month</th>\n",
       "      <th>Season</th>\n",
       "    </tr>\n",
       "  </thead>\n",
       "  <tbody>\n",
       "    <tr>\n",
       "      <th>0</th>\n",
       "      <td>47119</td>\n",
       "      <td>46352</td>\n",
       "      <td>4995</td>\n",
       "      <td>2</td>\n",
       "      <td>0</td>\n",
       "      <td>0</td>\n",
       "      <td>1</td>\n",
       "    </tr>\n",
       "    <tr>\n",
       "      <th>1</th>\n",
       "      <td>1758</td>\n",
       "      <td>76110</td>\n",
       "      <td>518</td>\n",
       "      <td>0</td>\n",
       "      <td>0</td>\n",
       "      <td>11</td>\n",
       "      <td>0</td>\n",
       "    </tr>\n",
       "    <tr>\n",
       "      <th>2</th>\n",
       "      <td>45591</td>\n",
       "      <td>45817</td>\n",
       "      <td>518</td>\n",
       "      <td>0</td>\n",
       "      <td>0</td>\n",
       "      <td>4</td>\n",
       "      <td>3</td>\n",
       "    </tr>\n",
       "    <tr>\n",
       "      <th>3</th>\n",
       "      <td>18177</td>\n",
       "      <td>21729</td>\n",
       "      <td>3621</td>\n",
       "      <td>0</td>\n",
       "      <td>197</td>\n",
       "      <td>7</td>\n",
       "      <td>1</td>\n",
       "    </tr>\n",
       "    <tr>\n",
       "      <th>4</th>\n",
       "      <td>72633</td>\n",
       "      <td>76673</td>\n",
       "      <td>4597</td>\n",
       "      <td>0</td>\n",
       "      <td>282</td>\n",
       "      <td>7</td>\n",
       "      <td>1</td>\n",
       "    </tr>\n",
       "  </tbody>\n",
       "</table>\n",
       "</div>"
      ],
      "text/plain": [
       "   Title  Headline  Source  Topic  Publish_Time  Publish_Month  Season\n",
       "0  47119     46352    4995      2             0              0       1\n",
       "1   1758     76110     518      0             0             11       0\n",
       "2  45591     45817     518      0             0              4       3\n",
       "3  18177     21729    3621      0           197              7       1\n",
       "4  72633     76673    4597      0           282              7       1"
      ]
     },
     "execution_count": 27,
     "metadata": {},
     "output_type": "execute_result"
    }
   ],
   "source": [
    "# Do LableEncoding \n",
    "le = preprocessing.LabelEncoder()\n",
    "df_news_copy_object_enco = df_news_copy_object.apply(le.fit_transform)\n",
    "df_news_copy_object_enco.head()"
   ]
  },
  {
   "cell_type": "code",
   "execution_count": 28,
   "id": "236df860",
   "metadata": {},
   "outputs": [],
   "source": [
    "concat_news_dataframe = pd.concat([df_news_copy_number,df_news_copy_object_enco],axis=1)"
   ]
  },
  {
   "cell_type": "markdown",
   "id": "3c9fd4af",
   "metadata": {},
   "source": [
    "## Scalling"
   ]
  },
  {
   "cell_type": "code",
   "execution_count": 29,
   "id": "5af48679",
   "metadata": {},
   "outputs": [],
   "source": [
    "# Use StandardScaler for scaling\n",
    "X_scaler = StandardScaler()\n",
    "num_scaler = X_scaler.fit_transform(concat_news_dataframe)\n",
    "X=pd.DataFrame(num_scaler,columns=concat_news_dataframe.columns)"
   ]
  },
  {
   "cell_type": "markdown",
   "id": "2a695382",
   "metadata": {},
   "source": [
    "## Train-Test Split"
   ]
  },
  {
   "cell_type": "code",
   "execution_count": 30,
   "id": "4bb7970e",
   "metadata": {},
   "outputs": [],
   "source": [
    "X_train,X_test,Y_train,Y_test = train_test_split(X,target_variable,random_state=1,test_size=0.4)"
   ]
  },
  {
   "cell_type": "code",
   "execution_count": 31,
   "id": "f57199e9",
   "metadata": {
    "scrolled": false
   },
   "outputs": [
    {
     "name": "stdout",
     "output_type": "stream",
     "text": [
      "X_train : (55767, 13)\n",
      "Y_train : (55767, 1)\n",
      "X_test : (37178, 13)\n",
      "Y_test : (37178, 1)\n"
     ]
    }
   ],
   "source": [
    "# Convert List into DataFrame Y_train\n",
    "Y_train = pd.DataFrame(Y_train)\n",
    "# Convert List into DataFrame Y_test\n",
    "Y_test = pd.DataFrame(Y_test)\n",
    "\n",
    "# checking the dimensions of the train & test subset\n",
    "# print dimension of train set\n",
    "print(\"X_train :\",X_train.shape)\n",
    "print(\"Y_train :\",Y_train.shape)\n",
    "\n",
    "# print dimension of test set\n",
    "print(\"X_test :\",X_test.shape)\n",
    "print(\"Y_test :\",Y_test.shape)"
   ]
  },
  {
   "cell_type": "markdown",
   "id": "16466506",
   "metadata": {},
   "source": [
    "## Base model (LinearRegression)"
   ]
  },
  {
   "cell_type": "code",
   "execution_count": 32,
   "id": "fe8a4b62",
   "metadata": {},
   "outputs": [],
   "source": [
    "# Use Linear Regression As a base model\n",
    "base_model = LinearRegression().fit(X_train,Y_train)"
   ]
  },
  {
   "cell_type": "code",
   "execution_count": 33,
   "id": "65ae822d",
   "metadata": {
    "scrolled": true
   },
   "outputs": [
    {
     "data": {
      "text/plain": [
       "0.03357131449689199"
      ]
     },
     "execution_count": 33,
     "metadata": {},
     "output_type": "execute_result"
    }
   ],
   "source": [
    "# Check the score for base model\n",
    "base_model.score(X_train,Y_train)"
   ]
  },
  {
   "cell_type": "code",
   "execution_count": 34,
   "id": "59a35b52",
   "metadata": {},
   "outputs": [
    {
     "data": {
      "text/plain": [
       "array([[-0.04162616],\n",
       "       [ 0.01427337],\n",
       "       [ 0.01484103],\n",
       "       ...,\n",
       "       [ 0.01668751],\n",
       "       [ 0.0154612 ],\n",
       "       [ 0.01301458]])"
      ]
     },
     "execution_count": 34,
     "metadata": {},
     "output_type": "execute_result"
    }
   ],
   "source": [
    "# Predict using base model\n",
    "y_pred =  base_model.predict(X_train)\n",
    "\n",
    "# print the predicted record\n",
    "y_pred"
   ]
  },
  {
   "cell_type": "code",
   "execution_count": 35,
   "id": "3c608c2b",
   "metadata": {},
   "outputs": [
    {
     "data": {
      "text/plain": [
       "0.13400613987660245"
      ]
     },
     "execution_count": 35,
     "metadata": {},
     "output_type": "execute_result"
    }
   ],
   "source": [
    "# Check the performance  of the base model using mean_squared_error\n",
    "mean_squared_error(Y_train, y_pred, squared=False)"
   ]
  },
  {
   "cell_type": "code",
   "execution_count": 36,
   "id": "a9516e36",
   "metadata": {},
   "outputs": [
    {
     "data": {
      "text/plain": [
       "0.09690549758608462"
      ]
     },
     "execution_count": 36,
     "metadata": {},
     "output_type": "execute_result"
    }
   ],
   "source": [
    "# Check the performance  of the base model using mean_absolute_error\n",
    "mean_absolute_error(Y_train,y_pred)"
   ]
  },
  {
   "cell_type": "code",
   "execution_count": 37,
   "id": "10be8988",
   "metadata": {},
   "outputs": [
    {
     "data": {
      "text/plain": [
       "0.13400613987660245"
      ]
     },
     "execution_count": 37,
     "metadata": {},
     "output_type": "execute_result"
    }
   ],
   "source": [
    "# Check the performance  of the base model using root_mean_squared_error\n",
    "np.sqrt(mean_squared_error(Y_train,y_pred))"
   ]
  },
  {
   "cell_type": "markdown",
   "id": "3c45f3f4",
   "metadata": {},
   "source": [
    "## Variance Inflation Factor(VIF)"
   ]
  },
  {
   "cell_type": "code",
   "execution_count": 38,
   "id": "871728f5",
   "metadata": {},
   "outputs": [
    {
     "data": {
      "text/html": [
       "<div>\n",
       "<style scoped>\n",
       "    .dataframe tbody tr th:only-of-type {\n",
       "        vertical-align: middle;\n",
       "    }\n",
       "\n",
       "    .dataframe tbody tr th {\n",
       "        vertical-align: top;\n",
       "    }\n",
       "\n",
       "    .dataframe thead th {\n",
       "        text-align: right;\n",
       "    }\n",
       "</style>\n",
       "<table border=\"1\" class=\"dataframe\">\n",
       "  <thead>\n",
       "    <tr style=\"text-align: right;\">\n",
       "      <th></th>\n",
       "      <th>IDLink</th>\n",
       "      <th>SentimentTitle</th>\n",
       "      <th>SentimentHeadline</th>\n",
       "      <th>Facebook</th>\n",
       "      <th>GooglePlus</th>\n",
       "      <th>LinkedIn</th>\n",
       "      <th>Publish_Day</th>\n",
       "    </tr>\n",
       "  </thead>\n",
       "  <tbody>\n",
       "    <tr>\n",
       "      <th>0</th>\n",
       "      <td>99248</td>\n",
       "      <td>0.000000</td>\n",
       "      <td>-0.053300</td>\n",
       "      <td>-1</td>\n",
       "      <td>-1</td>\n",
       "      <td>-1</td>\n",
       "      <td>2</td>\n",
       "    </tr>\n",
       "    <tr>\n",
       "      <th>1</th>\n",
       "      <td>10423</td>\n",
       "      <td>0.208333</td>\n",
       "      <td>-0.156386</td>\n",
       "      <td>-1</td>\n",
       "      <td>-1</td>\n",
       "      <td>-1</td>\n",
       "      <td>20</td>\n",
       "    </tr>\n",
       "    <tr>\n",
       "      <th>2</th>\n",
       "      <td>18828</td>\n",
       "      <td>-0.425210</td>\n",
       "      <td>0.139754</td>\n",
       "      <td>-1</td>\n",
       "      <td>-1</td>\n",
       "      <td>-1</td>\n",
       "      <td>28</td>\n",
       "    </tr>\n",
       "    <tr>\n",
       "      <th>3</th>\n",
       "      <td>27788</td>\n",
       "      <td>0.000000</td>\n",
       "      <td>0.026064</td>\n",
       "      <td>-1</td>\n",
       "      <td>-1</td>\n",
       "      <td>-1</td>\n",
       "      <td>1</td>\n",
       "    </tr>\n",
       "    <tr>\n",
       "      <th>4</th>\n",
       "      <td>27789</td>\n",
       "      <td>0.000000</td>\n",
       "      <td>0.141084</td>\n",
       "      <td>-1</td>\n",
       "      <td>-1</td>\n",
       "      <td>-1</td>\n",
       "      <td>1</td>\n",
       "    </tr>\n",
       "  </tbody>\n",
       "</table>\n",
       "</div>"
      ],
      "text/plain": [
       "   IDLink  SentimentTitle  SentimentHeadline  Facebook  GooglePlus  LinkedIn  \\\n",
       "0   99248        0.000000          -0.053300        -1          -1        -1   \n",
       "1   10423        0.208333          -0.156386        -1          -1        -1   \n",
       "2   18828       -0.425210           0.139754        -1          -1        -1   \n",
       "3   27788        0.000000           0.026064        -1          -1        -1   \n",
       "4   27789        0.000000           0.141084        -1          -1        -1   \n",
       "\n",
       "   Publish_Day  \n",
       "0            2  \n",
       "1           20  \n",
       "2           28  \n",
       "3            1  \n",
       "4            1  "
      ]
     },
     "execution_count": 38,
     "metadata": {},
     "output_type": "execute_result"
    }
   ],
   "source": [
    "# Do the feature selection for base model using VIF \n",
    "df_news_VIF_number = df_news.select_dtypes('number')\n",
    "df_news_VIF_number.head()"
   ]
  },
  {
   "cell_type": "code",
   "execution_count": 39,
   "id": "a10c2374",
   "metadata": {},
   "outputs": [
    {
     "name": "stdout",
     "output_type": "stream",
     "text": [
      "   VIF_Factor           Features\n",
      "0    2.363040             IDLink\n",
      "1    1.036659     SentimentTitle\n",
      "2    1.067113  SentimentHeadline\n",
      "3    1.416700           Facebook\n",
      "4    1.515392         GooglePlus\n",
      "5    1.093871           LinkedIn\n",
      "6    2.338872        Publish_Day\n"
     ]
    }
   ],
   "source": [
    "for ind in range(len(df_news_VIF_number.columns)):\n",
    "    vif = pd.DataFrame()\n",
    "    vif[\"VIF_Factor\"] = [variance_inflation_factor(df_news_VIF_number,i) for i in range(df_news_VIF_number.shape[1])]\n",
    "    vif[\"Features\"]=df_news_VIF_number.columns\n",
    "    multi =  vif[vif['VIF_Factor']>10]\n",
    "    \n",
    "    \n",
    "    if (multi.empty == False):\n",
    "        df_sorted = multi.sort_values(by = 'VIF_Factor',ascending= False)\n",
    "    else:\n",
    "        print(vif)\n",
    "        break\n",
    "        \n",
    "    \n",
    "    if (df_sorted.empty == False):\n",
    "        df_features_vif = df_news_VIF_number.drop(df_sorted.Features.iloc[0], axis=1)\n",
    "    else:\n",
    "        print(vif)\n",
    "        break"
   ]
  },
  {
   "cell_type": "code",
   "execution_count": 40,
   "id": "2c2a439c",
   "metadata": {},
   "outputs": [],
   "source": [
    "# We can see here that all Features contribute for prediction that is why all features are important"
   ]
  },
  {
   "cell_type": "code",
   "execution_count": 41,
   "id": "e9761eb0",
   "metadata": {},
   "outputs": [],
   "source": [
    "# After doing Linear regression we found that regression model is not good fit for this data so we decided to go for DecisionTreeClassifier"
   ]
  },
  {
   "cell_type": "markdown",
   "id": "75710c56",
   "metadata": {},
   "source": [
    "# Decision Tree "
   ]
  },
  {
   "cell_type": "code",
   "execution_count": 42,
   "id": "a7563cec",
   "metadata": {},
   "outputs": [],
   "source": [
    "df_news[\"target_sentiment\"] = np.round(df_news[\"SentimentTitle\"])"
   ]
  },
  {
   "cell_type": "code",
   "execution_count": 43,
   "id": "f3957dd4",
   "metadata": {},
   "outputs": [
    {
     "data": {
      "text/plain": [
       " 0.0    92640\n",
       "-1.0      172\n",
       " 1.0      133\n",
       "Name: target_sentiment, dtype: int64"
      ]
     },
     "execution_count": 43,
     "metadata": {},
     "output_type": "execute_result"
    }
   ],
   "source": [
    "df_news.target_sentiment.value_counts()"
   ]
  },
  {
   "cell_type": "code",
   "execution_count": 44,
   "id": "4a4ef11a",
   "metadata": {},
   "outputs": [],
   "source": [
    "# As we can see here the data is Imbalance(target Varible)"
   ]
  },
  {
   "cell_type": "code",
   "execution_count": 45,
   "id": "6e84ab42",
   "metadata": {},
   "outputs": [],
   "source": [
    "# We are using oversampling and undersampling concept to balance the data "
   ]
  },
  {
   "cell_type": "code",
   "execution_count": 46,
   "id": "e6fff526",
   "metadata": {},
   "outputs": [],
   "source": [
    "avg=df_news[df_news[\"target_sentiment\"]==0]"
   ]
  },
  {
   "cell_type": "code",
   "execution_count": 47,
   "id": "92c4bdf3",
   "metadata": {},
   "outputs": [],
   "source": [
    "high = df_news[df_news[\"target_sentiment\"]==1]"
   ]
  },
  {
   "cell_type": "code",
   "execution_count": 48,
   "id": "0f96dc3d",
   "metadata": {},
   "outputs": [],
   "source": [
    "below_avg=df_news[df_news[\"target_sentiment\"]==-1]"
   ]
  },
  {
   "cell_type": "code",
   "execution_count": 49,
   "id": "95b64923",
   "metadata": {},
   "outputs": [],
   "source": [
    "X1=df_news\n",
    "Y1= df_news[\"target_sentiment\"]"
   ]
  },
  {
   "cell_type": "code",
   "execution_count": 50,
   "id": "00a49596",
   "metadata": {},
   "outputs": [],
   "source": [
    "df_news.drop(\"target_sentiment\",axis=1,inplace=True)"
   ]
  },
  {
   "cell_type": "code",
   "execution_count": 51,
   "id": "530aeb37",
   "metadata": {},
   "outputs": [],
   "source": [
    "# Use Undersampling Concept"
   ]
  },
  {
   "cell_type": "code",
   "execution_count": 52,
   "id": "b5ffa361",
   "metadata": {},
   "outputs": [
    {
     "name": "stdout",
     "output_type": "stream",
     "text": [
      "[(-1.0, 133), (0.0, 133), (1.0, 133)] (399,)\n"
     ]
    }
   ],
   "source": [
    "from imblearn.under_sampling import RandomUnderSampler\n",
    "\n",
    "rus =  RandomUnderSampler(random_state=0)\n",
    "X_resampled,y_resampled = rus.fit_resample(X1,Y1)\n",
    "print(sorted(Counter(y_resampled).items()),y_resampled.shape)"
   ]
  },
  {
   "cell_type": "code",
   "execution_count": 53,
   "id": "f879d8c2",
   "metadata": {},
   "outputs": [],
   "source": [
    "under_sample=pd.concat([X_resampled,y_resampled],axis=1)"
   ]
  },
  {
   "cell_type": "code",
   "execution_count": 54,
   "id": "80196283",
   "metadata": {},
   "outputs": [],
   "source": [
    "under_sample.drop('target_sentiment', axis=1, inplace=True)\n",
    "under_sample.drop(\"SentimentTitle\",axis=1,inplace=True)"
   ]
  },
  {
   "cell_type": "code",
   "execution_count": 55,
   "id": "52d4ec81",
   "metadata": {
    "scrolled": true
   },
   "outputs": [
    {
     "data": {
      "text/html": [
       "<div>\n",
       "<style scoped>\n",
       "    .dataframe tbody tr th:only-of-type {\n",
       "        vertical-align: middle;\n",
       "    }\n",
       "\n",
       "    .dataframe tbody tr th {\n",
       "        vertical-align: top;\n",
       "    }\n",
       "\n",
       "    .dataframe thead th {\n",
       "        text-align: right;\n",
       "    }\n",
       "</style>\n",
       "<table border=\"1\" class=\"dataframe\">\n",
       "  <thead>\n",
       "    <tr style=\"text-align: right;\">\n",
       "      <th></th>\n",
       "      <th>IDLink</th>\n",
       "      <th>Title</th>\n",
       "      <th>Headline</th>\n",
       "      <th>Source</th>\n",
       "      <th>Topic</th>\n",
       "      <th>SentimentTitle</th>\n",
       "      <th>SentimentHeadline</th>\n",
       "      <th>Facebook</th>\n",
       "      <th>GooglePlus</th>\n",
       "      <th>LinkedIn</th>\n",
       "      <th>Publish_Time</th>\n",
       "      <th>Publish_Date</th>\n",
       "      <th>Publish_Month</th>\n",
       "      <th>Publish_Day</th>\n",
       "      <th>Season</th>\n",
       "      <th>target_sentiment</th>\n",
       "    </tr>\n",
       "  </thead>\n",
       "  <tbody>\n",
       "    <tr>\n",
       "      <th>0</th>\n",
       "      <td>72641</td>\n",
       "      <td>Palestinian resolution</td>\n",
       "      <td>Last week, Mumbai witnessed a cultural collabo...</td>\n",
       "      <td>Livemint</td>\n",
       "      <td>palestine</td>\n",
       "      <td>-0.530330</td>\n",
       "      <td>-0.212156</td>\n",
       "      <td>20</td>\n",
       "      <td>0</td>\n",
       "      <td>0</td>\n",
       "      <td>17:10:00</td>\n",
       "      <td>2016-01-15</td>\n",
       "      <td>January</td>\n",
       "      <td>15</td>\n",
       "      <td>Winter</td>\n",
       "      <td>-1.0</td>\n",
       "    </tr>\n",
       "    <tr>\n",
       "      <th>1</th>\n",
       "      <td>98407</td>\n",
       "      <td>Okinawa largely disappointed by Obama's words ...</td>\n",
       "      <td>U.S. President Barack Obama's condolences on M...</td>\n",
       "      <td>Asahi Shimbun</td>\n",
       "      <td>obama</td>\n",
       "      <td>-0.640816</td>\n",
       "      <td>-0.218651</td>\n",
       "      <td>11</td>\n",
       "      <td>0</td>\n",
       "      <td>0</td>\n",
       "      <td>06:15:28</td>\n",
       "      <td>2016-05-26</td>\n",
       "      <td>May</td>\n",
       "      <td>26</td>\n",
       "      <td>Spring</td>\n",
       "      <td>-1.0</td>\n",
       "    </tr>\n",
       "    <tr>\n",
       "      <th>2</th>\n",
       "      <td>20835</td>\n",
       "      <td>Cloud growth? Take a number, Microsoft. Two en...</td>\n",
       "      <td>Microsoft's second fiscal quarter showed a com...</td>\n",
       "      <td>The Register</td>\n",
       "      <td>microsoft</td>\n",
       "      <td>-0.515352</td>\n",
       "      <td>-0.164583</td>\n",
       "      <td>4</td>\n",
       "      <td>4</td>\n",
       "      <td>37</td>\n",
       "      <td>00:40:27</td>\n",
       "      <td>2016-01-30</td>\n",
       "      <td>January</td>\n",
       "      <td>30</td>\n",
       "      <td>Winter</td>\n",
       "      <td>-1.0</td>\n",
       "    </tr>\n",
       "    <tr>\n",
       "      <th>3</th>\n",
       "      <td>17201</td>\n",
       "      <td>Ontario economy posts modest third-quarter gro...</td>\n",
       "      <td>Ontario Finance Minister Charles Sousa: 'In an...</td>\n",
       "      <td>Mississauga</td>\n",
       "      <td>economy</td>\n",
       "      <td>-0.592927</td>\n",
       "      <td>0.147314</td>\n",
       "      <td>1</td>\n",
       "      <td>0</td>\n",
       "      <td>0</td>\n",
       "      <td>13:55:20</td>\n",
       "      <td>2016-01-16</td>\n",
       "      <td>January</td>\n",
       "      <td>16</td>\n",
       "      <td>Winter</td>\n",
       "      <td>-1.0</td>\n",
       "    </tr>\n",
       "    <tr>\n",
       "      <th>4</th>\n",
       "      <td>45381</td>\n",
       "      <td>Simon CEO: 'Flatlining' economy hurting malls ...</td>\n",
       "      <td>Simon, the CEO of Indianapolis-based mall owne...</td>\n",
       "      <td>Indianapolis Star</td>\n",
       "      <td>economy</td>\n",
       "      <td>-0.675000</td>\n",
       "      <td>0.000000</td>\n",
       "      <td>4</td>\n",
       "      <td>0</td>\n",
       "      <td>0</td>\n",
       "      <td>20:53:00</td>\n",
       "      <td>2016-04-26</td>\n",
       "      <td>April</td>\n",
       "      <td>26</td>\n",
       "      <td>Spring</td>\n",
       "      <td>-1.0</td>\n",
       "    </tr>\n",
       "  </tbody>\n",
       "</table>\n",
       "</div>"
      ],
      "text/plain": [
       "   IDLink                                              Title  \\\n",
       "0   72641                             Palestinian resolution   \n",
       "1   98407  Okinawa largely disappointed by Obama's words ...   \n",
       "2   20835  Cloud growth? Take a number, Microsoft. Two en...   \n",
       "3   17201  Ontario economy posts modest third-quarter gro...   \n",
       "4   45381  Simon CEO: 'Flatlining' economy hurting malls ...   \n",
       "\n",
       "                                            Headline             Source  \\\n",
       "0  Last week, Mumbai witnessed a cultural collabo...           Livemint   \n",
       "1  U.S. President Barack Obama's condolences on M...      Asahi Shimbun   \n",
       "2  Microsoft's second fiscal quarter showed a com...       The Register   \n",
       "3  Ontario Finance Minister Charles Sousa: 'In an...        Mississauga   \n",
       "4  Simon, the CEO of Indianapolis-based mall owne...  Indianapolis Star   \n",
       "\n",
       "       Topic  SentimentTitle  SentimentHeadline  Facebook  GooglePlus  \\\n",
       "0  palestine       -0.530330          -0.212156        20           0   \n",
       "1      obama       -0.640816          -0.218651        11           0   \n",
       "2  microsoft       -0.515352          -0.164583         4           4   \n",
       "3    economy       -0.592927           0.147314         1           0   \n",
       "4    economy       -0.675000           0.000000         4           0   \n",
       "\n",
       "   LinkedIn Publish_Time Publish_Date Publish_Month  Publish_Day  Season  \\\n",
       "0         0     17:10:00   2016-01-15       January           15  Winter   \n",
       "1         0     06:15:28   2016-05-26           May           26  Spring   \n",
       "2        37     00:40:27   2016-01-30       January           30  Winter   \n",
       "3         0     13:55:20   2016-01-16       January           16  Winter   \n",
       "4         0     20:53:00   2016-04-26         April           26  Spring   \n",
       "\n",
       "   target_sentiment  \n",
       "0              -1.0  \n",
       "1              -1.0  \n",
       "2              -1.0  \n",
       "3              -1.0  \n",
       "4              -1.0  "
      ]
     },
     "execution_count": 55,
     "metadata": {},
     "output_type": "execute_result"
    }
   ],
   "source": [
    "under_sample=pd.concat([X_resampled,y_resampled],axis=1)\n",
    "under_sample.head()"
   ]
  },
  {
   "cell_type": "code",
   "execution_count": 56,
   "id": "bbb6b683",
   "metadata": {},
   "outputs": [],
   "source": [
    "# change target variable data type into object\n",
    "under_sample.target_sentiment= under_sample.target_sentiment.astype('object')\n",
    "target_variable_under = list(under_sample.target_sentiment.copy())\n",
    "under_sample.drop(\"target_sentiment\",axis=1,inplace=True)"
   ]
  },
  {
   "cell_type": "code",
   "execution_count": 57,
   "id": "368d7b87",
   "metadata": {},
   "outputs": [],
   "source": [
    "# change data type of date column\n",
    "under_sample.Publish_Time = pd.to_timedelta(under_sample.Publish_Time)"
   ]
  },
  {
   "cell_type": "code",
   "execution_count": 58,
   "id": "3f029674",
   "metadata": {},
   "outputs": [],
   "source": [
    "# Segregate the data \n",
    "under_sample_object = under_sample.select_dtypes('object')\n",
    "under_sample_number = under_sample.select_dtypes('number')"
   ]
  },
  {
   "cell_type": "code",
   "execution_count": 59,
   "id": "28c9f026",
   "metadata": {},
   "outputs": [
    {
     "data": {
      "text/html": [
       "<div>\n",
       "<style scoped>\n",
       "    .dataframe tbody tr th:only-of-type {\n",
       "        vertical-align: middle;\n",
       "    }\n",
       "\n",
       "    .dataframe tbody tr th {\n",
       "        vertical-align: top;\n",
       "    }\n",
       "\n",
       "    .dataframe thead th {\n",
       "        text-align: right;\n",
       "    }\n",
       "</style>\n",
       "<table border=\"1\" class=\"dataframe\">\n",
       "  <thead>\n",
       "    <tr style=\"text-align: right;\">\n",
       "      <th></th>\n",
       "      <th>Title</th>\n",
       "      <th>Headline</th>\n",
       "      <th>Source</th>\n",
       "      <th>IDLink</th>\n",
       "      <th>SentimentTitle</th>\n",
       "      <th>SentimentHeadline</th>\n",
       "      <th>Facebook</th>\n",
       "      <th>GooglePlus</th>\n",
       "      <th>LinkedIn</th>\n",
       "      <th>Publish_Time</th>\n",
       "      <th>Publish_Day</th>\n",
       "    </tr>\n",
       "  </thead>\n",
       "  <tbody>\n",
       "    <tr>\n",
       "      <th>0</th>\n",
       "      <td>261</td>\n",
       "      <td>152</td>\n",
       "      <td>108</td>\n",
       "      <td>72641</td>\n",
       "      <td>-0.530330</td>\n",
       "      <td>-0.212156</td>\n",
       "      <td>20</td>\n",
       "      <td>0</td>\n",
       "      <td>0</td>\n",
       "      <td>0 days 17:10:00</td>\n",
       "      <td>15</td>\n",
       "    </tr>\n",
       "    <tr>\n",
       "      <th>1</th>\n",
       "      <td>243</td>\n",
       "      <td>343</td>\n",
       "      <td>17</td>\n",
       "      <td>98407</td>\n",
       "      <td>-0.640816</td>\n",
       "      <td>-0.218651</td>\n",
       "      <td>11</td>\n",
       "      <td>0</td>\n",
       "      <td>0</td>\n",
       "      <td>0 days 06:15:28</td>\n",
       "      <td>26</td>\n",
       "    </tr>\n",
       "    <tr>\n",
       "      <th>2</th>\n",
       "      <td>47</td>\n",
       "      <td>181</td>\n",
       "      <td>222</td>\n",
       "      <td>20835</td>\n",
       "      <td>-0.515352</td>\n",
       "      <td>-0.164583</td>\n",
       "      <td>4</td>\n",
       "      <td>4</td>\n",
       "      <td>37</td>\n",
       "      <td>0 days 00:40:27</td>\n",
       "      <td>30</td>\n",
       "    </tr>\n",
       "    <tr>\n",
       "      <th>3</th>\n",
       "      <td>245</td>\n",
       "      <td>204</td>\n",
       "      <td>123</td>\n",
       "      <td>17201</td>\n",
       "      <td>-0.592927</td>\n",
       "      <td>0.147314</td>\n",
       "      <td>1</td>\n",
       "      <td>0</td>\n",
       "      <td>0</td>\n",
       "      <td>0 days 13:55:20</td>\n",
       "      <td>16</td>\n",
       "    </tr>\n",
       "    <tr>\n",
       "      <th>4</th>\n",
       "      <td>299</td>\n",
       "      <td>260</td>\n",
       "      <td>91</td>\n",
       "      <td>45381</td>\n",
       "      <td>-0.675000</td>\n",
       "      <td>0.000000</td>\n",
       "      <td>4</td>\n",
       "      <td>0</td>\n",
       "      <td>0</td>\n",
       "      <td>0 days 20:53:00</td>\n",
       "      <td>26</td>\n",
       "    </tr>\n",
       "  </tbody>\n",
       "</table>\n",
       "</div>"
      ],
      "text/plain": [
       "   Title  Headline  Source  IDLink  SentimentTitle  SentimentHeadline  \\\n",
       "0    261       152     108   72641       -0.530330          -0.212156   \n",
       "1    243       343      17   98407       -0.640816          -0.218651   \n",
       "2     47       181     222   20835       -0.515352          -0.164583   \n",
       "3    245       204     123   17201       -0.592927           0.147314   \n",
       "4    299       260      91   45381       -0.675000           0.000000   \n",
       "\n",
       "   Facebook  GooglePlus  LinkedIn    Publish_Time  Publish_Day  \n",
       "0        20           0         0 0 days 17:10:00           15  \n",
       "1        11           0         0 0 days 06:15:28           26  \n",
       "2         4           4        37 0 days 00:40:27           30  \n",
       "3         1           0         0 0 days 13:55:20           16  \n",
       "4         4           0         0 0 days 20:53:00           26  "
      ]
     },
     "execution_count": 59,
     "metadata": {},
     "output_type": "execute_result"
    }
   ],
   "source": [
    "# Do LableEncoding \n",
    "le = preprocessing.LabelEncoder()\n",
    "under_sample_label_enco = under_sample_object[[\"Title\",\"Headline\",\"Source\"]].apply(le.fit_transform)\n",
    "under_sample_dummy_enco = pd.get_dummies(under_sample_object[[\"Topic\",\"Publish_Month\",\"Season\"]])\n",
    "concat_under_sample_dataframe = pd.concat([under_sample_label_enco,under_sample_number],axis=1)\n",
    "concat_under_sample_dataframe.head()"
   ]
  },
  {
   "cell_type": "code",
   "execution_count": 60,
   "id": "5d6234b2",
   "metadata": {},
   "outputs": [],
   "source": [
    "concat_under_sample_dataframe.drop(\"Publish_Time\",axis=1,inplace=True)"
   ]
  },
  {
   "cell_type": "code",
   "execution_count": 61,
   "id": "5e67375c",
   "metadata": {},
   "outputs": [
    {
     "data": {
      "text/html": [
       "<div>\n",
       "<style scoped>\n",
       "    .dataframe tbody tr th:only-of-type {\n",
       "        vertical-align: middle;\n",
       "    }\n",
       "\n",
       "    .dataframe tbody tr th {\n",
       "        vertical-align: top;\n",
       "    }\n",
       "\n",
       "    .dataframe thead th {\n",
       "        text-align: right;\n",
       "    }\n",
       "</style>\n",
       "<table border=\"1\" class=\"dataframe\">\n",
       "  <thead>\n",
       "    <tr style=\"text-align: right;\">\n",
       "      <th></th>\n",
       "      <th>Title</th>\n",
       "      <th>Headline</th>\n",
       "      <th>Source</th>\n",
       "      <th>IDLink</th>\n",
       "      <th>SentimentTitle</th>\n",
       "      <th>SentimentHeadline</th>\n",
       "      <th>Facebook</th>\n",
       "      <th>GooglePlus</th>\n",
       "      <th>LinkedIn</th>\n",
       "      <th>Publish_Day</th>\n",
       "      <th>...</th>\n",
       "      <th>Publish_Month_July</th>\n",
       "      <th>Publish_Month_June</th>\n",
       "      <th>Publish_Month_March</th>\n",
       "      <th>Publish_Month_May</th>\n",
       "      <th>Publish_Month_November</th>\n",
       "      <th>Publish_Month_October</th>\n",
       "      <th>Season_Fall</th>\n",
       "      <th>Season_Spring</th>\n",
       "      <th>Season_Summer</th>\n",
       "      <th>Season_Winter</th>\n",
       "    </tr>\n",
       "  </thead>\n",
       "  <tbody>\n",
       "    <tr>\n",
       "      <th>0</th>\n",
       "      <td>0.767970</td>\n",
       "      <td>-0.384435</td>\n",
       "      <td>-0.303280</td>\n",
       "      <td>0.730160</td>\n",
       "      <td>-1.105060</td>\n",
       "      <td>-1.152656</td>\n",
       "      <td>-0.173424</td>\n",
       "      <td>-0.267231</td>\n",
       "      <td>-0.191663</td>\n",
       "      <td>-0.185120</td>\n",
       "      <td>...</td>\n",
       "      <td>0</td>\n",
       "      <td>0</td>\n",
       "      <td>0</td>\n",
       "      <td>0</td>\n",
       "      <td>0</td>\n",
       "      <td>0</td>\n",
       "      <td>0</td>\n",
       "      <td>0</td>\n",
       "      <td>0</td>\n",
       "      <td>1</td>\n",
       "    </tr>\n",
       "    <tr>\n",
       "      <th>1</th>\n",
       "      <td>0.597363</td>\n",
       "      <td>1.312982</td>\n",
       "      <td>-1.417270</td>\n",
       "      <td>1.597724</td>\n",
       "      <td>-1.331303</td>\n",
       "      <td>-1.187838</td>\n",
       "      <td>-0.223102</td>\n",
       "      <td>-0.267231</td>\n",
       "      <td>-0.191663</td>\n",
       "      <td>1.064869</td>\n",
       "      <td>...</td>\n",
       "      <td>0</td>\n",
       "      <td>0</td>\n",
       "      <td>0</td>\n",
       "      <td>1</td>\n",
       "      <td>0</td>\n",
       "      <td>0</td>\n",
       "      <td>0</td>\n",
       "      <td>1</td>\n",
       "      <td>0</td>\n",
       "      <td>0</td>\n",
       "    </tr>\n",
       "    <tr>\n",
       "      <th>2</th>\n",
       "      <td>-1.260361</td>\n",
       "      <td>-0.126712</td>\n",
       "      <td>1.092268</td>\n",
       "      <td>-1.014192</td>\n",
       "      <td>-1.074389</td>\n",
       "      <td>-0.894929</td>\n",
       "      <td>-0.261740</td>\n",
       "      <td>0.146847</td>\n",
       "      <td>0.542325</td>\n",
       "      <td>1.519410</td>\n",
       "      <td>...</td>\n",
       "      <td>0</td>\n",
       "      <td>0</td>\n",
       "      <td>0</td>\n",
       "      <td>0</td>\n",
       "      <td>0</td>\n",
       "      <td>0</td>\n",
       "      <td>0</td>\n",
       "      <td>0</td>\n",
       "      <td>0</td>\n",
       "      <td>1</td>\n",
       "    </tr>\n",
       "    <tr>\n",
       "      <th>3</th>\n",
       "      <td>0.616320</td>\n",
       "      <td>0.077689</td>\n",
       "      <td>-0.119655</td>\n",
       "      <td>-1.136552</td>\n",
       "      <td>-1.233241</td>\n",
       "      <td>0.794775</td>\n",
       "      <td>-0.278300</td>\n",
       "      <td>-0.267231</td>\n",
       "      <td>-0.191663</td>\n",
       "      <td>-0.071485</td>\n",
       "      <td>...</td>\n",
       "      <td>0</td>\n",
       "      <td>0</td>\n",
       "      <td>0</td>\n",
       "      <td>0</td>\n",
       "      <td>0</td>\n",
       "      <td>0</td>\n",
       "      <td>0</td>\n",
       "      <td>0</td>\n",
       "      <td>0</td>\n",
       "      <td>1</td>\n",
       "    </tr>\n",
       "    <tr>\n",
       "      <th>4</th>\n",
       "      <td>1.128141</td>\n",
       "      <td>0.575361</td>\n",
       "      <td>-0.511388</td>\n",
       "      <td>-0.187707</td>\n",
       "      <td>-1.401303</td>\n",
       "      <td>-0.003298</td>\n",
       "      <td>-0.261740</td>\n",
       "      <td>-0.267231</td>\n",
       "      <td>-0.191663</td>\n",
       "      <td>1.064869</td>\n",
       "      <td>...</td>\n",
       "      <td>0</td>\n",
       "      <td>0</td>\n",
       "      <td>0</td>\n",
       "      <td>0</td>\n",
       "      <td>0</td>\n",
       "      <td>0</td>\n",
       "      <td>0</td>\n",
       "      <td>1</td>\n",
       "      <td>0</td>\n",
       "      <td>0</td>\n",
       "    </tr>\n",
       "  </tbody>\n",
       "</table>\n",
       "<p>5 rows × 28 columns</p>\n",
       "</div>"
      ],
      "text/plain": [
       "      Title  Headline    Source    IDLink  SentimentTitle  SentimentHeadline  \\\n",
       "0  0.767970 -0.384435 -0.303280  0.730160       -1.105060          -1.152656   \n",
       "1  0.597363  1.312982 -1.417270  1.597724       -1.331303          -1.187838   \n",
       "2 -1.260361 -0.126712  1.092268 -1.014192       -1.074389          -0.894929   \n",
       "3  0.616320  0.077689 -0.119655 -1.136552       -1.233241           0.794775   \n",
       "4  1.128141  0.575361 -0.511388 -0.187707       -1.401303          -0.003298   \n",
       "\n",
       "   Facebook  GooglePlus  LinkedIn  Publish_Day  ...  Publish_Month_July  \\\n",
       "0 -0.173424   -0.267231 -0.191663    -0.185120  ...                   0   \n",
       "1 -0.223102   -0.267231 -0.191663     1.064869  ...                   0   \n",
       "2 -0.261740    0.146847  0.542325     1.519410  ...                   0   \n",
       "3 -0.278300   -0.267231 -0.191663    -0.071485  ...                   0   \n",
       "4 -0.261740   -0.267231 -0.191663     1.064869  ...                   0   \n",
       "\n",
       "   Publish_Month_June  Publish_Month_March  Publish_Month_May  \\\n",
       "0                   0                    0                  0   \n",
       "1                   0                    0                  1   \n",
       "2                   0                    0                  0   \n",
       "3                   0                    0                  0   \n",
       "4                   0                    0                  0   \n",
       "\n",
       "   Publish_Month_November  Publish_Month_October  Season_Fall  Season_Spring  \\\n",
       "0                       0                      0            0              0   \n",
       "1                       0                      0            0              1   \n",
       "2                       0                      0            0              0   \n",
       "3                       0                      0            0              0   \n",
       "4                       0                      0            0              1   \n",
       "\n",
       "   Season_Summer  Season_Winter  \n",
       "0              0              1  \n",
       "1              0              0  \n",
       "2              0              1  \n",
       "3              0              1  \n",
       "4              0              0  \n",
       "\n",
       "[5 rows x 28 columns]"
      ]
     },
     "execution_count": 61,
     "metadata": {},
     "output_type": "execute_result"
    }
   ],
   "source": [
    "X_scaler_under = StandardScaler()\n",
    "num_scaler_under = X_scaler_under.fit_transform(concat_under_sample_dataframe)\n",
    "X_under=pd.DataFrame(num_scaler_under,columns=concat_under_sample_dataframe.columns)\n",
    "X_under = pd.concat([X_under,under_sample_dummy_enco],axis=1)\n",
    "X_under.head()"
   ]
  },
  {
   "cell_type": "markdown",
   "id": "78182d83",
   "metadata": {},
   "source": [
    "### Train-Test Split"
   ]
  },
  {
   "cell_type": "code",
   "execution_count": 62,
   "id": "35abfa69",
   "metadata": {
    "scrolled": true
   },
   "outputs": [],
   "source": [
    "x_train_under,x_test_under,y_train_under,y_test_under=train_test_split(X_under,target_variable_under,random_state=1,test_size=0.3)"
   ]
  },
  {
   "cell_type": "code",
   "execution_count": 63,
   "id": "c4d0cbe6",
   "metadata": {},
   "outputs": [
    {
     "name": "stdout",
     "output_type": "stream",
     "text": [
      "x_train_under : (279, 28)\n",
      "y_train_under : (279, 1)\n",
      "x_test_under : (120, 28)\n",
      "y_test_under : (120, 1)\n"
     ]
    }
   ],
   "source": [
    "# Convert List into DataFrame y_train_under\n",
    "y_train_under = pd.DataFrame(y_train_under)\n",
    "# Convert List into DataFrame y_test_under\n",
    "y_test_under = pd.DataFrame(y_test_under)\n",
    "\n",
    "# checking the dimensions of the train & test subset\n",
    "# print dimension of train set\n",
    "print(\"x_train_under :\",x_train_under.shape)\n",
    "print(\"y_train_under :\",y_train_under.shape)\n",
    "\n",
    "# print dimension of test set\n",
    "print(\"x_test_under :\",x_test_under.shape)\n",
    "print(\"y_test_under :\",y_test_under.shape)"
   ]
  },
  {
   "cell_type": "markdown",
   "id": "48b316e5",
   "metadata": {},
   "source": [
    "## Decision tree model"
   ]
  },
  {
   "cell_type": "code",
   "execution_count": 64,
   "id": "683daf98",
   "metadata": {},
   "outputs": [],
   "source": [
    "# Initialize the decision tree\n",
    "decision_tree_clasifier=DecisionTreeClassifier(criterion='entropy',random_state=10)"
   ]
  },
  {
   "cell_type": "code",
   "execution_count": 65,
   "id": "e1146e98",
   "metadata": {},
   "outputs": [],
   "source": [
    "# Fit the model\n",
    "decision_tree=decision_tree_clasifier.fit(x_train_under,y_train_under)"
   ]
  },
  {
   "cell_type": "code",
   "execution_count": 66,
   "id": "f889ebc8",
   "metadata": {
    "scrolled": true
   },
   "outputs": [],
   "source": [
    "# prediction for training data\n",
    "predict_train=decision_tree.predict(x_train_under)\n",
    "\n",
    "# prediction for testing data\n",
    "predict_test=decision_tree.predict(x_test_under)"
   ]
  },
  {
   "cell_type": "code",
   "execution_count": 67,
   "id": "74a0a789",
   "metadata": {},
   "outputs": [
    {
     "data": {
      "text/plain": [
       "array([[95,  0,  0],\n",
       "       [ 0, 96,  0],\n",
       "       [ 0,  0, 88]], dtype=int64)"
      ]
     },
     "execution_count": 67,
     "metadata": {},
     "output_type": "execute_result"
    }
   ],
   "source": [
    "confusion_matrix(y_train_under,predict_train)"
   ]
  },
  {
   "cell_type": "code",
   "execution_count": 68,
   "id": "561eba66",
   "metadata": {},
   "outputs": [
    {
     "data": {
      "text/plain": [
       "array([[38,  0,  0],\n",
       "       [ 0, 36,  1],\n",
       "       [ 0,  0, 45]], dtype=int64)"
      ]
     },
     "execution_count": 68,
     "metadata": {},
     "output_type": "execute_result"
    }
   ],
   "source": [
    "confusion_matrix(y_test_under,predict_test)"
   ]
  },
  {
   "cell_type": "code",
   "execution_count": 69,
   "id": "d0db8ab0",
   "metadata": {},
   "outputs": [
    {
     "name": "stdout",
     "output_type": "stream",
     "text": [
      "              precision    recall  f1-score   support\n",
      "\n",
      "        -1.0       1.00      1.00      1.00        95\n",
      "         0.0       1.00      1.00      1.00        96\n",
      "         1.0       1.00      1.00      1.00        88\n",
      "\n",
      "    accuracy                           1.00       279\n",
      "   macro avg       1.00      1.00      1.00       279\n",
      "weighted avg       1.00      1.00      1.00       279\n",
      "\n"
     ]
    }
   ],
   "source": [
    "# Classification report for traning data\n",
    "print(classification_report(y_train_under,predict_train))"
   ]
  },
  {
   "cell_type": "code",
   "execution_count": 70,
   "id": "f3080b9d",
   "metadata": {},
   "outputs": [
    {
     "name": "stdout",
     "output_type": "stream",
     "text": [
      "              precision    recall  f1-score   support\n",
      "\n",
      "        -1.0       1.00      1.00      1.00        38\n",
      "        -0.0       1.00      0.97      0.99        37\n",
      "         1.0       0.98      1.00      0.99        45\n",
      "\n",
      "    accuracy                           0.99       120\n",
      "   macro avg       0.99      0.99      0.99       120\n",
      "weighted avg       0.99      0.99      0.99       120\n",
      "\n"
     ]
    }
   ],
   "source": [
    "# Classification report for testing data\n",
    "print(classification_report(y_test_under,predict_test))"
   ]
  },
  {
   "cell_type": "code",
   "execution_count": 71,
   "id": "40bdd760",
   "metadata": {},
   "outputs": [],
   "source": [
    "# our model is performing well there is no underfiting problem"
   ]
  },
  {
   "cell_type": "code",
   "execution_count": 72,
   "id": "d071a723",
   "metadata": {},
   "outputs": [],
   "source": [
    "# Tune the model using hyperparameter"
   ]
  },
  {
   "cell_type": "code",
   "execution_count": 73,
   "id": "e63a37ba",
   "metadata": {},
   "outputs": [],
   "source": [
    "# Set the hyperparameter\n",
    "tuned_params=[{'criterion':['entopy','gini'],'max_depth':[10,20,30],'max_features':['log2','sqrt'],'min_samples_split':[2,5,8,11],'min_samples_leaf':[1,5,9],'max_leaf_nodes':[10,30,50,70]}]"
   ]
  },
  {
   "cell_type": "code",
   "execution_count": 74,
   "id": "95e04f4e",
   "metadata": {},
   "outputs": [
    {
     "name": "stdout",
     "output_type": "stream",
     "text": [
      "{'criterion': 'gini', 'max_depth': 10, 'max_features': 'log2', 'max_leaf_nodes': 50, 'min_samples_leaf': 1, 'min_samples_split': 11}\n"
     ]
    }
   ],
   "source": [
    "# Find the best hyperparameter using grid serch cv\n",
    "over_tree_grid=GridSearchCV(estimator=decision_tree_clasifier,param_grid=tuned_params,cv=5)\n",
    "model = over_tree_grid.fit(x_train_under,y_train_under)\n",
    "print(model.best_params_)"
   ]
  },
  {
   "cell_type": "markdown",
   "id": "6f9da414",
   "metadata": {},
   "source": [
    "## Make a new model with good hyperpatameter"
   ]
  },
  {
   "cell_type": "code",
   "execution_count": 75,
   "id": "c41ca339",
   "metadata": {},
   "outputs": [],
   "source": [
    "# Initialize the dt with good hyperparameter that we found using grid search CV\n",
    "dt1 =DecisionTreeClassifier(criterion='gini',random_state=10,max_depth=20,max_features='log2',\n",
    "                            max_leaf_nodes=70,min_samples_leaf=1,min_samples_split=2)"
   ]
  },
  {
   "cell_type": "code",
   "execution_count": 76,
   "id": "2950c7b8",
   "metadata": {},
   "outputs": [],
   "source": [
    "# fit the model on the data \n",
    "final_model = dt1.fit(x_train_under,y_train_under)"
   ]
  },
  {
   "cell_type": "code",
   "execution_count": 77,
   "id": "29bd11c1",
   "metadata": {},
   "outputs": [],
   "source": [
    "# predict for traning \n",
    "predicted_train = final_model.predict(x_train_under)\n",
    "\n",
    "# predict for testing  \n",
    "predicted_test = final_model.predict(x_test_under)"
   ]
  },
  {
   "cell_type": "code",
   "execution_count": 78,
   "id": "5d3139c6",
   "metadata": {},
   "outputs": [
    {
     "name": "stdout",
     "output_type": "stream",
     "text": [
      "              precision    recall  f1-score   support\n",
      "\n",
      "        -1.0       0.87      0.92      0.89        95\n",
      "         0.0       0.92      0.94      0.93        96\n",
      "         1.0       1.00      0.92      0.96        88\n",
      "\n",
      "    accuracy                           0.92       279\n",
      "   macro avg       0.93      0.92      0.93       279\n",
      "weighted avg       0.93      0.92      0.93       279\n",
      "\n"
     ]
    }
   ],
   "source": [
    "# Classification report for traing data\n",
    "print(classification_report(y_train_under,predicted_train))"
   ]
  },
  {
   "cell_type": "code",
   "execution_count": 79,
   "id": "75a0a7e5",
   "metadata": {},
   "outputs": [
    {
     "name": "stdout",
     "output_type": "stream",
     "text": [
      "              precision    recall  f1-score   support\n",
      "\n",
      "        -1.0       0.62      0.66      0.64        38\n",
      "        -0.0       0.56      0.65      0.60        37\n",
      "         1.0       0.78      0.64      0.71        45\n",
      "\n",
      "    accuracy                           0.65       120\n",
      "   macro avg       0.66      0.65      0.65       120\n",
      "weighted avg       0.66      0.65      0.65       120\n",
      "\n"
     ]
    }
   ],
   "source": [
    "#  Classification report for testing data\n",
    "print(classification_report(y_test_under,predicted_test))"
   ]
  },
  {
   "cell_type": "markdown",
   "id": "530e4a3e",
   "metadata": {},
   "source": [
    "As we can see model is overfitted, the reason is traing accurecy is 92% and testing accurecy 65%"
   ]
  },
  {
   "cell_type": "markdown",
   "id": "c67c8e95",
   "metadata": {},
   "source": [
    "## Oversampling concept "
   ]
  },
  {
   "cell_type": "code",
   "execution_count": 80,
   "id": "aa2b5c39",
   "metadata": {
    "scrolled": true
   },
   "outputs": [
    {
     "name": "stdout",
     "output_type": "stream",
     "text": [
      "[(-1.0, 92640), (0.0, 92640), (1.0, 92640)] (277920,)\n"
     ]
    },
    {
     "data": {
      "text/html": [
       "<div>\n",
       "<style scoped>\n",
       "    .dataframe tbody tr th:only-of-type {\n",
       "        vertical-align: middle;\n",
       "    }\n",
       "\n",
       "    .dataframe tbody tr th {\n",
       "        vertical-align: top;\n",
       "    }\n",
       "\n",
       "    .dataframe thead th {\n",
       "        text-align: right;\n",
       "    }\n",
       "</style>\n",
       "<table border=\"1\" class=\"dataframe\">\n",
       "  <thead>\n",
       "    <tr style=\"text-align: right;\">\n",
       "      <th></th>\n",
       "      <th>IDLink</th>\n",
       "      <th>Title</th>\n",
       "      <th>Headline</th>\n",
       "      <th>Source</th>\n",
       "      <th>Topic</th>\n",
       "      <th>SentimentTitle</th>\n",
       "      <th>SentimentHeadline</th>\n",
       "      <th>Facebook</th>\n",
       "      <th>GooglePlus</th>\n",
       "      <th>LinkedIn</th>\n",
       "      <th>Publish_Time</th>\n",
       "      <th>Publish_Date</th>\n",
       "      <th>Publish_Month</th>\n",
       "      <th>Publish_Day</th>\n",
       "      <th>Season</th>\n",
       "      <th>target_sentiment</th>\n",
       "    </tr>\n",
       "  </thead>\n",
       "  <tbody>\n",
       "    <tr>\n",
       "      <th>0</th>\n",
       "      <td>99248</td>\n",
       "      <td>Obama Lays Wreath at Arlington National Cemetery</td>\n",
       "      <td>Obama Lays Wreath at Arlington National Cemete...</td>\n",
       "      <td>USA TODAY</td>\n",
       "      <td>obama</td>\n",
       "      <td>0.000000</td>\n",
       "      <td>-0.053300</td>\n",
       "      <td>-1</td>\n",
       "      <td>-1</td>\n",
       "      <td>-1</td>\n",
       "      <td>00:00:00</td>\n",
       "      <td>2002-04-02</td>\n",
       "      <td>April</td>\n",
       "      <td>2</td>\n",
       "      <td>Spring</td>\n",
       "      <td>0.0</td>\n",
       "    </tr>\n",
       "    <tr>\n",
       "      <th>1</th>\n",
       "      <td>10423</td>\n",
       "      <td>A Look at the Health of the Chinese Economy</td>\n",
       "      <td>Tim Haywood, investment director business-unit...</td>\n",
       "      <td>Bloomberg</td>\n",
       "      <td>economy</td>\n",
       "      <td>0.208333</td>\n",
       "      <td>-0.156386</td>\n",
       "      <td>-1</td>\n",
       "      <td>-1</td>\n",
       "      <td>-1</td>\n",
       "      <td>00:00:00</td>\n",
       "      <td>2008-09-20</td>\n",
       "      <td>September</td>\n",
       "      <td>20</td>\n",
       "      <td>Fall</td>\n",
       "      <td>0.0</td>\n",
       "    </tr>\n",
       "    <tr>\n",
       "      <th>2</th>\n",
       "      <td>18828</td>\n",
       "      <td>Nouriel Roubini: Global Economy Not Back to 2008</td>\n",
       "      <td>Nouriel Roubini, NYU professor and chairman at...</td>\n",
       "      <td>Bloomberg</td>\n",
       "      <td>economy</td>\n",
       "      <td>-0.425210</td>\n",
       "      <td>0.139754</td>\n",
       "      <td>-1</td>\n",
       "      <td>-1</td>\n",
       "      <td>-1</td>\n",
       "      <td>00:00:00</td>\n",
       "      <td>2012-01-28</td>\n",
       "      <td>January</td>\n",
       "      <td>28</td>\n",
       "      <td>Winter</td>\n",
       "      <td>-0.0</td>\n",
       "    </tr>\n",
       "    <tr>\n",
       "      <th>3</th>\n",
       "      <td>27788</td>\n",
       "      <td>Finland GDP Expands In Q4</td>\n",
       "      <td>Finland's economy expanded marginally in the t...</td>\n",
       "      <td>RTT News</td>\n",
       "      <td>economy</td>\n",
       "      <td>0.000000</td>\n",
       "      <td>0.026064</td>\n",
       "      <td>-1</td>\n",
       "      <td>-1</td>\n",
       "      <td>-1</td>\n",
       "      <td>00:06:00</td>\n",
       "      <td>2015-03-01</td>\n",
       "      <td>March</td>\n",
       "      <td>1</td>\n",
       "      <td>Spring</td>\n",
       "      <td>0.0</td>\n",
       "    </tr>\n",
       "    <tr>\n",
       "      <th>4</th>\n",
       "      <td>27789</td>\n",
       "      <td>Tourism, govt spending buoys Thai economy in J...</td>\n",
       "      <td>Tourism and public spending continued to boost...</td>\n",
       "      <td>The Nation - Thailand&amp;#39;s English news</td>\n",
       "      <td>economy</td>\n",
       "      <td>0.000000</td>\n",
       "      <td>0.141084</td>\n",
       "      <td>-1</td>\n",
       "      <td>-1</td>\n",
       "      <td>-1</td>\n",
       "      <td>00:11:00</td>\n",
       "      <td>2015-03-01</td>\n",
       "      <td>March</td>\n",
       "      <td>1</td>\n",
       "      <td>Spring</td>\n",
       "      <td>0.0</td>\n",
       "    </tr>\n",
       "  </tbody>\n",
       "</table>\n",
       "</div>"
      ],
      "text/plain": [
       "   IDLink                                              Title  \\\n",
       "0   99248   Obama Lays Wreath at Arlington National Cemetery   \n",
       "1   10423        A Look at the Health of the Chinese Economy   \n",
       "2   18828   Nouriel Roubini: Global Economy Not Back to 2008   \n",
       "3   27788                          Finland GDP Expands In Q4   \n",
       "4   27789  Tourism, govt spending buoys Thai economy in J...   \n",
       "\n",
       "                                            Headline  \\\n",
       "0  Obama Lays Wreath at Arlington National Cemete...   \n",
       "1  Tim Haywood, investment director business-unit...   \n",
       "2  Nouriel Roubini, NYU professor and chairman at...   \n",
       "3  Finland's economy expanded marginally in the t...   \n",
       "4  Tourism and public spending continued to boost...   \n",
       "\n",
       "                                     Source    Topic  SentimentTitle  \\\n",
       "0                                 USA TODAY    obama        0.000000   \n",
       "1                                 Bloomberg  economy        0.208333   \n",
       "2                                 Bloomberg  economy       -0.425210   \n",
       "3                                  RTT News  economy        0.000000   \n",
       "4  The Nation - Thailand&#39;s English news  economy        0.000000   \n",
       "\n",
       "   SentimentHeadline  Facebook  GooglePlus  LinkedIn Publish_Time  \\\n",
       "0          -0.053300        -1          -1        -1     00:00:00   \n",
       "1          -0.156386        -1          -1        -1     00:00:00   \n",
       "2           0.139754        -1          -1        -1     00:00:00   \n",
       "3           0.026064        -1          -1        -1     00:06:00   \n",
       "4           0.141084        -1          -1        -1     00:11:00   \n",
       "\n",
       "  Publish_Date Publish_Month  Publish_Day  Season  target_sentiment  \n",
       "0   2002-04-02         April            2  Spring               0.0  \n",
       "1   2008-09-20     September           20    Fall               0.0  \n",
       "2   2012-01-28       January           28  Winter              -0.0  \n",
       "3   2015-03-01         March            1  Spring               0.0  \n",
       "4   2015-03-01         March            1  Spring               0.0  "
      ]
     },
     "execution_count": 80,
     "metadata": {},
     "output_type": "execute_result"
    }
   ],
   "source": [
    "from imblearn.over_sampling import RandomOverSampler\n",
    "\n",
    "rus =  RandomOverSampler(random_state=0)\n",
    "X_resampled_over,y_resampled_over = rus.fit_resample(X1,Y1)\n",
    "print(sorted(Counter(y_resampled_over).items()),y_resampled_over.shape)\n",
    "over_sample=pd.concat([X_resampled_over,y_resampled_over],axis=1)\n",
    "over_sample.head()"
   ]
  },
  {
   "cell_type": "code",
   "execution_count": 81,
   "id": "8050aa09",
   "metadata": {},
   "outputs": [],
   "source": [
    "# change target variable data type into object\n",
    "over_sample.target_sentiment= over_sample.target_sentiment.astype('object')\n",
    "target_variable_over = list(over_sample.target_sentiment.copy())\n",
    "over_sample.drop(\"target_sentiment\",axis=1,inplace=True)"
   ]
  },
  {
   "cell_type": "code",
   "execution_count": 82,
   "id": "e35e5f02",
   "metadata": {},
   "outputs": [],
   "source": [
    "over_sample_object = over_sample.select_dtypes('object')\n",
    "over_sample_number = over_sample.select_dtypes('number')"
   ]
  },
  {
   "cell_type": "code",
   "execution_count": 83,
   "id": "49ef2a67",
   "metadata": {},
   "outputs": [
    {
     "data": {
      "text/html": [
       "<div>\n",
       "<style scoped>\n",
       "    .dataframe tbody tr th:only-of-type {\n",
       "        vertical-align: middle;\n",
       "    }\n",
       "\n",
       "    .dataframe tbody tr th {\n",
       "        vertical-align: top;\n",
       "    }\n",
       "\n",
       "    .dataframe thead th {\n",
       "        text-align: right;\n",
       "    }\n",
       "</style>\n",
       "<table border=\"1\" class=\"dataframe\">\n",
       "  <thead>\n",
       "    <tr style=\"text-align: right;\">\n",
       "      <th></th>\n",
       "      <th>Title</th>\n",
       "      <th>Headline</th>\n",
       "      <th>Source</th>\n",
       "    </tr>\n",
       "  </thead>\n",
       "  <tbody>\n",
       "    <tr>\n",
       "      <th>0</th>\n",
       "      <td>47119</td>\n",
       "      <td>46352</td>\n",
       "      <td>4995</td>\n",
       "    </tr>\n",
       "    <tr>\n",
       "      <th>1</th>\n",
       "      <td>1758</td>\n",
       "      <td>76110</td>\n",
       "      <td>518</td>\n",
       "    </tr>\n",
       "    <tr>\n",
       "      <th>2</th>\n",
       "      <td>45591</td>\n",
       "      <td>45817</td>\n",
       "      <td>518</td>\n",
       "    </tr>\n",
       "    <tr>\n",
       "      <th>3</th>\n",
       "      <td>18177</td>\n",
       "      <td>21729</td>\n",
       "      <td>3621</td>\n",
       "    </tr>\n",
       "    <tr>\n",
       "      <th>4</th>\n",
       "      <td>72633</td>\n",
       "      <td>76673</td>\n",
       "      <td>4597</td>\n",
       "    </tr>\n",
       "  </tbody>\n",
       "</table>\n",
       "</div>"
      ],
      "text/plain": [
       "   Title  Headline  Source\n",
       "0  47119     46352    4995\n",
       "1   1758     76110     518\n",
       "2  45591     45817     518\n",
       "3  18177     21729    3621\n",
       "4  72633     76673    4597"
      ]
     },
     "execution_count": 83,
     "metadata": {},
     "output_type": "execute_result"
    }
   ],
   "source": [
    "le = preprocessing.LabelEncoder()\n",
    "over_sample_label_enco = over_sample_object[[\"Title\",\"Headline\",\"Source\"]].apply(le.fit_transform)\n",
    "over_sample_label_enco.head()"
   ]
  },
  {
   "cell_type": "markdown",
   "id": "7a112909",
   "metadata": {},
   "source": [
    "**Encode the each categorical**"
   ]
  },
  {
   "cell_type": "code",
   "execution_count": 84,
   "id": "f38579f5",
   "metadata": {},
   "outputs": [],
   "source": [
    "over_sample_dummy_enco = pd.get_dummies(over_sample_object[[\"Topic\",\"Publish_Month\",\"Season\"]])"
   ]
  },
  {
   "cell_type": "code",
   "execution_count": 85,
   "id": "f0a84c9f",
   "metadata": {},
   "outputs": [
    {
     "data": {
      "text/html": [
       "<div>\n",
       "<style scoped>\n",
       "    .dataframe tbody tr th:only-of-type {\n",
       "        vertical-align: middle;\n",
       "    }\n",
       "\n",
       "    .dataframe tbody tr th {\n",
       "        vertical-align: top;\n",
       "    }\n",
       "\n",
       "    .dataframe thead th {\n",
       "        text-align: right;\n",
       "    }\n",
       "</style>\n",
       "<table border=\"1\" class=\"dataframe\">\n",
       "  <thead>\n",
       "    <tr style=\"text-align: right;\">\n",
       "      <th></th>\n",
       "      <th>Title</th>\n",
       "      <th>Headline</th>\n",
       "      <th>Source</th>\n",
       "      <th>IDLink</th>\n",
       "      <th>SentimentTitle</th>\n",
       "      <th>SentimentHeadline</th>\n",
       "      <th>Facebook</th>\n",
       "      <th>GooglePlus</th>\n",
       "      <th>LinkedIn</th>\n",
       "      <th>Publish_Day</th>\n",
       "    </tr>\n",
       "  </thead>\n",
       "  <tbody>\n",
       "    <tr>\n",
       "      <th>0</th>\n",
       "      <td>47119</td>\n",
       "      <td>46352</td>\n",
       "      <td>4995</td>\n",
       "      <td>99248</td>\n",
       "      <td>0.000000</td>\n",
       "      <td>-0.053300</td>\n",
       "      <td>-1</td>\n",
       "      <td>-1</td>\n",
       "      <td>-1</td>\n",
       "      <td>2</td>\n",
       "    </tr>\n",
       "    <tr>\n",
       "      <th>1</th>\n",
       "      <td>1758</td>\n",
       "      <td>76110</td>\n",
       "      <td>518</td>\n",
       "      <td>10423</td>\n",
       "      <td>0.208333</td>\n",
       "      <td>-0.156386</td>\n",
       "      <td>-1</td>\n",
       "      <td>-1</td>\n",
       "      <td>-1</td>\n",
       "      <td>20</td>\n",
       "    </tr>\n",
       "    <tr>\n",
       "      <th>2</th>\n",
       "      <td>45591</td>\n",
       "      <td>45817</td>\n",
       "      <td>518</td>\n",
       "      <td>18828</td>\n",
       "      <td>-0.425210</td>\n",
       "      <td>0.139754</td>\n",
       "      <td>-1</td>\n",
       "      <td>-1</td>\n",
       "      <td>-1</td>\n",
       "      <td>28</td>\n",
       "    </tr>\n",
       "    <tr>\n",
       "      <th>3</th>\n",
       "      <td>18177</td>\n",
       "      <td>21729</td>\n",
       "      <td>3621</td>\n",
       "      <td>27788</td>\n",
       "      <td>0.000000</td>\n",
       "      <td>0.026064</td>\n",
       "      <td>-1</td>\n",
       "      <td>-1</td>\n",
       "      <td>-1</td>\n",
       "      <td>1</td>\n",
       "    </tr>\n",
       "    <tr>\n",
       "      <th>4</th>\n",
       "      <td>72633</td>\n",
       "      <td>76673</td>\n",
       "      <td>4597</td>\n",
       "      <td>27789</td>\n",
       "      <td>0.000000</td>\n",
       "      <td>0.141084</td>\n",
       "      <td>-1</td>\n",
       "      <td>-1</td>\n",
       "      <td>-1</td>\n",
       "      <td>1</td>\n",
       "    </tr>\n",
       "  </tbody>\n",
       "</table>\n",
       "</div>"
      ],
      "text/plain": [
       "   Title  Headline  Source  IDLink  SentimentTitle  SentimentHeadline  \\\n",
       "0  47119     46352    4995   99248        0.000000          -0.053300   \n",
       "1   1758     76110     518   10423        0.208333          -0.156386   \n",
       "2  45591     45817     518   18828       -0.425210           0.139754   \n",
       "3  18177     21729    3621   27788        0.000000           0.026064   \n",
       "4  72633     76673    4597   27789        0.000000           0.141084   \n",
       "\n",
       "   Facebook  GooglePlus  LinkedIn  Publish_Day  \n",
       "0        -1          -1        -1            2  \n",
       "1        -1          -1        -1           20  \n",
       "2        -1          -1        -1           28  \n",
       "3        -1          -1        -1            1  \n",
       "4        -1          -1        -1            1  "
      ]
     },
     "execution_count": 85,
     "metadata": {},
     "output_type": "execute_result"
    }
   ],
   "source": [
    "concat_over_sample_dataframe = pd.concat([over_sample_label_enco,over_sample_number],axis=1)\n",
    "concat_over_sample_dataframe.head()"
   ]
  },
  {
   "cell_type": "code",
   "execution_count": 86,
   "id": "318a6225",
   "metadata": {},
   "outputs": [
    {
     "data": {
      "text/html": [
       "<div>\n",
       "<style scoped>\n",
       "    .dataframe tbody tr th:only-of-type {\n",
       "        vertical-align: middle;\n",
       "    }\n",
       "\n",
       "    .dataframe tbody tr th {\n",
       "        vertical-align: top;\n",
       "    }\n",
       "\n",
       "    .dataframe thead th {\n",
       "        text-align: right;\n",
       "    }\n",
       "</style>\n",
       "<table border=\"1\" class=\"dataframe\">\n",
       "  <thead>\n",
       "    <tr style=\"text-align: right;\">\n",
       "      <th></th>\n",
       "      <th>Title</th>\n",
       "      <th>Headline</th>\n",
       "      <th>Source</th>\n",
       "      <th>IDLink</th>\n",
       "      <th>SentimentTitle</th>\n",
       "      <th>SentimentHeadline</th>\n",
       "      <th>Facebook</th>\n",
       "      <th>GooglePlus</th>\n",
       "      <th>LinkedIn</th>\n",
       "      <th>Publish_Day</th>\n",
       "      <th>...</th>\n",
       "      <th>Publish_Month_June</th>\n",
       "      <th>Publish_Month_March</th>\n",
       "      <th>Publish_Month_May</th>\n",
       "      <th>Publish_Month_November</th>\n",
       "      <th>Publish_Month_October</th>\n",
       "      <th>Publish_Month_September</th>\n",
       "      <th>Season_Fall</th>\n",
       "      <th>Season_Spring</th>\n",
       "      <th>Season_Summer</th>\n",
       "      <th>Season_Winter</th>\n",
       "    </tr>\n",
       "  </thead>\n",
       "  <tbody>\n",
       "    <tr>\n",
       "      <th>0</th>\n",
       "      <td>0.213169</td>\n",
       "      <td>0.082633</td>\n",
       "      <td>1.237859</td>\n",
       "      <td>1.637338</td>\n",
       "      <td>-0.013450</td>\n",
       "      <td>-0.304755</td>\n",
       "      <td>-0.181104</td>\n",
       "      <td>-0.302878</td>\n",
       "      <td>-0.131689</td>\n",
       "      <td>-1.595826</td>\n",
       "      <td>...</td>\n",
       "      <td>0</td>\n",
       "      <td>0</td>\n",
       "      <td>0</td>\n",
       "      <td>0</td>\n",
       "      <td>0</td>\n",
       "      <td>0</td>\n",
       "      <td>0</td>\n",
       "      <td>1</td>\n",
       "      <td>0</td>\n",
       "      <td>0</td>\n",
       "    </tr>\n",
       "    <tr>\n",
       "      <th>1</th>\n",
       "      <td>-1.715737</td>\n",
       "      <td>1.238428</td>\n",
       "      <td>-1.343713</td>\n",
       "      <td>-1.410554</td>\n",
       "      <td>0.412868</td>\n",
       "      <td>-0.857541</td>\n",
       "      <td>-0.181104</td>\n",
       "      <td>-0.302878</td>\n",
       "      <td>-0.131689</td>\n",
       "      <td>0.413311</td>\n",
       "      <td>...</td>\n",
       "      <td>0</td>\n",
       "      <td>0</td>\n",
       "      <td>0</td>\n",
       "      <td>0</td>\n",
       "      <td>0</td>\n",
       "      <td>1</td>\n",
       "      <td>1</td>\n",
       "      <td>0</td>\n",
       "      <td>0</td>\n",
       "      <td>0</td>\n",
       "    </tr>\n",
       "    <tr>\n",
       "      <th>2</th>\n",
       "      <td>0.148194</td>\n",
       "      <td>0.061854</td>\n",
       "      <td>-1.343713</td>\n",
       "      <td>-1.122149</td>\n",
       "      <td>-0.883566</td>\n",
       "      <td>0.730480</td>\n",
       "      <td>-0.181104</td>\n",
       "      <td>-0.302878</td>\n",
       "      <td>-0.131689</td>\n",
       "      <td>1.306261</td>\n",
       "      <td>...</td>\n",
       "      <td>0</td>\n",
       "      <td>0</td>\n",
       "      <td>0</td>\n",
       "      <td>0</td>\n",
       "      <td>0</td>\n",
       "      <td>0</td>\n",
       "      <td>0</td>\n",
       "      <td>0</td>\n",
       "      <td>0</td>\n",
       "      <td>1</td>\n",
       "    </tr>\n",
       "    <tr>\n",
       "      <th>3</th>\n",
       "      <td>-1.017545</td>\n",
       "      <td>-0.873720</td>\n",
       "      <td>0.445570</td>\n",
       "      <td>-0.814701</td>\n",
       "      <td>-0.013450</td>\n",
       "      <td>0.120829</td>\n",
       "      <td>-0.181104</td>\n",
       "      <td>-0.302878</td>\n",
       "      <td>-0.131689</td>\n",
       "      <td>-1.707445</td>\n",
       "      <td>...</td>\n",
       "      <td>0</td>\n",
       "      <td>1</td>\n",
       "      <td>0</td>\n",
       "      <td>0</td>\n",
       "      <td>0</td>\n",
       "      <td>0</td>\n",
       "      <td>0</td>\n",
       "      <td>1</td>\n",
       "      <td>0</td>\n",
       "      <td>0</td>\n",
       "    </tr>\n",
       "    <tr>\n",
       "      <th>4</th>\n",
       "      <td>1.298113</td>\n",
       "      <td>1.260295</td>\n",
       "      <td>1.008361</td>\n",
       "      <td>-0.814667</td>\n",
       "      <td>-0.013450</td>\n",
       "      <td>0.737613</td>\n",
       "      <td>-0.181104</td>\n",
       "      <td>-0.302878</td>\n",
       "      <td>-0.131689</td>\n",
       "      <td>-1.707445</td>\n",
       "      <td>...</td>\n",
       "      <td>0</td>\n",
       "      <td>1</td>\n",
       "      <td>0</td>\n",
       "      <td>0</td>\n",
       "      <td>0</td>\n",
       "      <td>0</td>\n",
       "      <td>0</td>\n",
       "      <td>1</td>\n",
       "      <td>0</td>\n",
       "      <td>0</td>\n",
       "    </tr>\n",
       "  </tbody>\n",
       "</table>\n",
       "<p>5 rows × 30 columns</p>\n",
       "</div>"
      ],
      "text/plain": [
       "      Title  Headline    Source    IDLink  SentimentTitle  SentimentHeadline  \\\n",
       "0  0.213169  0.082633  1.237859  1.637338       -0.013450          -0.304755   \n",
       "1 -1.715737  1.238428 -1.343713 -1.410554        0.412868          -0.857541   \n",
       "2  0.148194  0.061854 -1.343713 -1.122149       -0.883566           0.730480   \n",
       "3 -1.017545 -0.873720  0.445570 -0.814701       -0.013450           0.120829   \n",
       "4  1.298113  1.260295  1.008361 -0.814667       -0.013450           0.737613   \n",
       "\n",
       "   Facebook  GooglePlus  LinkedIn  Publish_Day  ...  Publish_Month_June  \\\n",
       "0 -0.181104   -0.302878 -0.131689    -1.595826  ...                   0   \n",
       "1 -0.181104   -0.302878 -0.131689     0.413311  ...                   0   \n",
       "2 -0.181104   -0.302878 -0.131689     1.306261  ...                   0   \n",
       "3 -0.181104   -0.302878 -0.131689    -1.707445  ...                   0   \n",
       "4 -0.181104   -0.302878 -0.131689    -1.707445  ...                   0   \n",
       "\n",
       "   Publish_Month_March  Publish_Month_May  Publish_Month_November  \\\n",
       "0                    0                  0                       0   \n",
       "1                    0                  0                       0   \n",
       "2                    0                  0                       0   \n",
       "3                    1                  0                       0   \n",
       "4                    1                  0                       0   \n",
       "\n",
       "   Publish_Month_October  Publish_Month_September  Season_Fall  Season_Spring  \\\n",
       "0                      0                        0            0              1   \n",
       "1                      0                        1            1              0   \n",
       "2                      0                        0            0              0   \n",
       "3                      0                        0            0              1   \n",
       "4                      0                        0            0              1   \n",
       "\n",
       "   Season_Summer  Season_Winter  \n",
       "0              0              0  \n",
       "1              0              0  \n",
       "2              0              1  \n",
       "3              0              0  \n",
       "4              0              0  \n",
       "\n",
       "[5 rows x 30 columns]"
      ]
     },
     "execution_count": 86,
     "metadata": {},
     "output_type": "execute_result"
    }
   ],
   "source": [
    "X_scaler_over = StandardScaler()\n",
    "num_scaler_over = X_scaler.fit_transform(concat_over_sample_dataframe)\n",
    "X_over=pd.DataFrame(num_scaler_over,columns=concat_over_sample_dataframe.columns)\n",
    "X_over = pd.concat([X_over,over_sample_dummy_enco],axis=1)\n",
    "X_over.head()"
   ]
  },
  {
   "cell_type": "markdown",
   "id": "dd04e9d1",
   "metadata": {},
   "source": [
    "## Train-Test Split"
   ]
  },
  {
   "cell_type": "code",
   "execution_count": 87,
   "id": "2b4c15f5",
   "metadata": {},
   "outputs": [],
   "source": [
    "x_train_over,x_test_over,y_train_over,y_test_over=train_test_split(X_over,target_variable_over,random_state=1,test_size=0.3)"
   ]
  },
  {
   "cell_type": "code",
   "execution_count": 88,
   "id": "41e8fe1c",
   "metadata": {},
   "outputs": [
    {
     "name": "stdout",
     "output_type": "stream",
     "text": [
      "x_train_over : (194544, 30)\n",
      "y_train_over : (194544, 1)\n",
      "x_test_over : (83376, 30)\n",
      "y_test_over : (83376, 1)\n"
     ]
    }
   ],
   "source": [
    "# Convert List into DataFrame y_train_over\n",
    "y_train_over = pd.DataFrame(y_train_over)\n",
    "# Convert List into DataFrame y_test_over\n",
    "y_test_over = pd.DataFrame(y_test_over)\n",
    "\n",
    "# checking the dimensions of the train & test subset\n",
    "# print dimension of train set\n",
    "print(\"x_train_over :\",x_train_over.shape)\n",
    "print(\"y_train_over :\",y_train_over.shape)\n",
    "\n",
    "# print dimension of test set\n",
    "print(\"x_test_over :\",x_test_over.shape)\n",
    "print(\"y_test_over :\",y_test_over.shape)"
   ]
  },
  {
   "cell_type": "code",
   "execution_count": 89,
   "id": "7eb46b07",
   "metadata": {},
   "outputs": [],
   "source": [
    "# Initialize the decision tree for oversampling concept\n",
    "decision_tree_clasifier=DecisionTreeClassifier(criterion='entropy',random_state=10)"
   ]
  },
  {
   "cell_type": "code",
   "execution_count": 90,
   "id": "51614de2",
   "metadata": {},
   "outputs": [],
   "source": [
    "# fit the model\n",
    "decision_tree=decision_tree_clasifier.fit(x_train_over,y_train_over)"
   ]
  },
  {
   "cell_type": "code",
   "execution_count": 91,
   "id": "189575fd",
   "metadata": {},
   "outputs": [
    {
     "data": {
      "text/plain": [
       "array([ 1.,  0.,  1., ...,  0., -1.,  1.])"
      ]
     },
     "execution_count": 91,
     "metadata": {},
     "output_type": "execute_result"
    }
   ],
   "source": [
    "# predict for traing data\n",
    "predict_train_over=decision_tree.predict(x_train_over)\n",
    "predict_train_over\n",
    "\n",
    "# predict for testing data\n",
    "predict_test_over=decision_tree.predict(x_test_over)\n",
    "predict_test_over"
   ]
  },
  {
   "cell_type": "code",
   "execution_count": 92,
   "id": "d61fec58",
   "metadata": {},
   "outputs": [
    {
     "data": {
      "text/plain": [
       "array([[64997,     0,     0],\n",
       "       [    0, 64700,     0],\n",
       "       [    0,     0, 64847]], dtype=int64)"
      ]
     },
     "execution_count": 92,
     "metadata": {},
     "output_type": "execute_result"
    }
   ],
   "source": [
    "confusion_matrix(y_train_over,predict_train_over)"
   ]
  },
  {
   "cell_type": "code",
   "execution_count": 93,
   "id": "ea77e87f",
   "metadata": {},
   "outputs": [
    {
     "data": {
      "text/plain": [
       "array([[27643,     0,     0],\n",
       "       [    0, 27940,     0],\n",
       "       [    0,     0, 27793]], dtype=int64)"
      ]
     },
     "execution_count": 93,
     "metadata": {},
     "output_type": "execute_result"
    }
   ],
   "source": [
    "confusion_matrix(y_test_over,predict_test_over)"
   ]
  },
  {
   "cell_type": "code",
   "execution_count": 94,
   "id": "75afc6f5",
   "metadata": {},
   "outputs": [
    {
     "name": "stdout",
     "output_type": "stream",
     "text": [
      "              precision    recall  f1-score   support\n",
      "\n",
      "        -1.0       1.00      1.00      1.00     64997\n",
      "         0.0       1.00      1.00      1.00     64700\n",
      "         1.0       1.00      1.00      1.00     64847\n",
      "\n",
      "    accuracy                           1.00    194544\n",
      "   macro avg       1.00      1.00      1.00    194544\n",
      "weighted avg       1.00      1.00      1.00    194544\n",
      "\n"
     ]
    }
   ],
   "source": [
    "# Classification report for traning data\n",
    "print(classification_report(y_train_over,predict_train_over))"
   ]
  },
  {
   "cell_type": "code",
   "execution_count": 95,
   "id": "e401877f",
   "metadata": {},
   "outputs": [
    {
     "name": "stdout",
     "output_type": "stream",
     "text": [
      "              precision    recall  f1-score   support\n",
      "\n",
      "        -1.0       1.00      1.00      1.00     27643\n",
      "         0.0       1.00      1.00      1.00     27940\n",
      "         1.0       1.00      1.00      1.00     27793\n",
      "\n",
      "    accuracy                           1.00     83376\n",
      "   macro avg       1.00      1.00      1.00     83376\n",
      "weighted avg       1.00      1.00      1.00     83376\n",
      "\n"
     ]
    }
   ],
   "source": [
    "# classification report for testing data\n",
    "print(classification_report(y_test_over,predict_test_over))"
   ]
  },
  {
   "cell_type": "code",
   "execution_count": 96,
   "id": "3167417f",
   "metadata": {},
   "outputs": [],
   "source": [
    "# Our model is performing well there is no overfiting problem"
   ]
  },
  {
   "cell_type": "code",
   "execution_count": 97,
   "id": "3bebbd76",
   "metadata": {},
   "outputs": [],
   "source": [
    "# Tune the model using hyperparameter"
   ]
  },
  {
   "cell_type": "code",
   "execution_count": 98,
   "id": "ef42c930",
   "metadata": {},
   "outputs": [],
   "source": [
    "tuned_params=[{'criterion':['entopy','gini'],'max_depth':[10,20,30],'max_features':['log2','sqrt'],'min_samples_split':[2,5,8,11],'min_samples_leaf':[1,5,9],'max_leaf_nodes':[10,30,50,70]}]"
   ]
  },
  {
   "cell_type": "code",
   "execution_count": 99,
   "id": "e4b33fbb",
   "metadata": {},
   "outputs": [
    {
     "name": "stdout",
     "output_type": "stream",
     "text": [
      "{'criterion': 'gini', 'max_depth': 20, 'max_features': 'sqrt', 'max_leaf_nodes': 70, 'min_samples_leaf': 5, 'min_samples_split': 2}\n"
     ]
    }
   ],
   "source": [
    "over_tree_grid=GridSearchCV(estimator=decision_tree_clasifier,param_grid=tuned_params,cv=5)\n",
    "model = over_tree_grid.fit(x_train_over,y_train_over)\n",
    "print(model.best_params_)"
   ]
  },
  {
   "cell_type": "markdown",
   "id": "01058018",
   "metadata": {},
   "source": [
    "## Decision tree model for oversampling concept (Best Hyperpatameter)"
   ]
  },
  {
   "cell_type": "code",
   "execution_count": 100,
   "id": "d958c6c8",
   "metadata": {},
   "outputs": [],
   "source": [
    "dt2 =DecisionTreeClassifier(criterion='gini',random_state=10,max_depth=20,max_features='log2',\n",
    "                            max_leaf_nodes=70,min_samples_leaf=1,min_samples_split=2)"
   ]
  },
  {
   "cell_type": "code",
   "execution_count": 101,
   "id": "320a0a37",
   "metadata": {},
   "outputs": [],
   "source": [
    "# Fit the model on the data\n",
    "final_model = dt2.fit(x_train_over,y_train_over)\n",
    "\n",
    "# predict for traing data\n",
    "predicted_train = final_model.predict(x_train_over)\n",
    "\n",
    "# predict for testing data\n",
    "predicted_test = final_model.predict(x_test_over)"
   ]
  },
  {
   "cell_type": "code",
   "execution_count": 102,
   "id": "f2f86b89",
   "metadata": {},
   "outputs": [
    {
     "name": "stdout",
     "output_type": "stream",
     "text": [
      "              precision    recall  f1-score   support\n",
      "\n",
      "        -1.0       1.00      1.00      1.00     64997\n",
      "         0.0       1.00      1.00      1.00     64700\n",
      "         1.0       1.00      1.00      1.00     64847\n",
      "\n",
      "    accuracy                           1.00    194544\n",
      "   macro avg       1.00      1.00      1.00    194544\n",
      "weighted avg       1.00      1.00      1.00    194544\n",
      "\n"
     ]
    }
   ],
   "source": [
    "print(classification_report(y_train_over,predict_train_over))"
   ]
  },
  {
   "cell_type": "code",
   "execution_count": 103,
   "id": "bf8019c0",
   "metadata": {},
   "outputs": [
    {
     "name": "stdout",
     "output_type": "stream",
     "text": [
      "              precision    recall  f1-score   support\n",
      "\n",
      "        -1.0       1.00      1.00      1.00     27643\n",
      "         0.0       1.00      1.00      1.00     27940\n",
      "         1.0       1.00      1.00      1.00     27793\n",
      "\n",
      "    accuracy                           1.00     83376\n",
      "   macro avg       1.00      1.00      1.00     83376\n",
      "weighted avg       1.00      1.00      1.00     83376\n",
      "\n"
     ]
    }
   ],
   "source": [
    "print(classification_report(y_test_over,predict_test_over))"
   ]
  },
  {
   "cell_type": "code",
   "execution_count": 104,
   "id": "071f30b8",
   "metadata": {},
   "outputs": [],
   "source": [
    "# As we can see here oversampling concept good fit for the data\n",
    "# That proven by seen the accuracy of traing and testing "
   ]
  }
 ],
 "metadata": {
  "kernelspec": {
   "display_name": "Python 3 (ipykernel)",
   "language": "python",
   "name": "python3"
  },
  "language_info": {
   "codemirror_mode": {
    "name": "ipython",
    "version": 3
   },
   "file_extension": ".py",
   "mimetype": "text/x-python",
   "name": "python",
   "nbconvert_exporter": "python",
   "pygments_lexer": "ipython3",
   "version": "3.9.8"
  }
 },
 "nbformat": 4,
 "nbformat_minor": 5
}
